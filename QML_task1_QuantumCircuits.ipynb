{
 "cells": [
  {
   "cell_type": "code",
   "execution_count": 1,
   "metadata": {
    "id": "hLNQIA4mKYUa"
   },
   "outputs": [],
   "source": [
    "# imports and preliminaries\n",
    "\n",
    "try:\n",
    "    import cirq\n",
    "except ImportError:\n",
    "    print(\"installing cirq...\")\n",
    "    !pip install --quiet cirq\n",
    "    print(\"installed cirq.\")\n",
    "    import cirq\n",
    "\n",
    "import cirq_google\n",
    "from cirq.circuits import InsertStrategy\n",
    "\n",
    "import numpy as np\n",
    "import matplotlib.pyplot as plt"
   ]
  },
  {
   "cell_type": "markdown",
   "metadata": {
    "id": "z_CASHe7Sd8s"
   },
   "source": [
    "# Circuit 1"
   ]
  },
  {
   "cell_type": "code",
   "execution_count": 2,
   "metadata": {
    "colab": {
     "base_uri": "https://localhost:8080/"
    },
    "id": "x6uzYy8aK3Pn",
    "outputId": "e9056e71-7536-4eb0-8398-b5da129af259"
   },
   "outputs": [
    {
     "name": "stdout",
     "output_type": "stream",
     "text": [
      "0: ───H───@───────────────×──────────────\n",
      "          │               │\n",
      "1: ───H───X───@───────────┼──────────────\n",
      "              │           │\n",
      "2: ───H───────X───@───────┼───Rx(0.5π)───\n",
      "                  │       │\n",
      "3: ───H───────────X───@───┼──────────────\n",
      "                      │   │\n",
      "4: ───H───────────────X───×──────────────\n"
     ]
    }
   ],
   "source": [
    "# create circuit with 5 qubits\n",
    "circuit = cirq.Circuit()\n",
    "num_qubits = 5\n",
    "qubits = cirq.LineQubit.range(num_qubits)\n",
    "\n",
    "\n",
    "# add hadamard gates\n",
    "for i in range(num_qubits):\n",
    "    circuit.append(cirq.H(qubits[i]))\n",
    "\n",
    "# add cnot gates\n",
    "for j in range(num_qubits-1):\n",
    "    circuit.append(cirq.CNOT(qubits[j], qubits[j+1]))\n",
    "\n",
    "# swap gate between q0 and q4\n",
    "circuit.append(cirq.SWAP(qubits[0], qubits[4]))\n",
    "\n",
    "\n",
    "# rotation about pauli X gate by pi/2\n",
    "# used the insert strategy = new, to demonstrate its use and keep the circuit clean\n",
    "circuit.append(cirq.rx(0.5 * np.pi).on(qubits[2]), strategy=InsertStrategy.NEW)\n",
    "\n",
    "print(circuit)"
   ]
  },
  {
   "cell_type": "code",
   "execution_count": 3,
   "metadata": {
    "colab": {
     "base_uri": "https://localhost:8080/"
    },
    "id": "nJhqKf6mNtTR",
    "outputId": "35d432e8-16a4-45ab-9f07-84ab29be3b0f"
   },
   "outputs": [
    {
     "name": "stdout",
     "output_type": "stream",
     "text": [
      "Simulate the circuit:\n",
      "measurements: (no measurements)\n",
      "\n",
      "qubits: (cirq.LineQubit(4), cirq.LineQubit(1), cirq.LineQubit(2), cirq.LineQubit(3), cirq.LineQubit(0))\n",
      "output vector: [0.12499999-0.12499999j 0.12499999-0.12499999j 0.12499999-0.12499999j\n",
      " 0.12499999-0.12499999j 0.12499999-0.12499999j 0.12499999-0.12499999j\n",
      " 0.12499999-0.12499999j 0.12499999-0.12499999j 0.12499999-0.12499999j\n",
      " 0.12499999-0.12499999j 0.12499999-0.12499999j 0.12499999-0.12499999j\n",
      " 0.12499999-0.12499999j 0.12499999-0.12499999j 0.12499999-0.12499999j\n",
      " 0.12499999-0.12499999j 0.12499999-0.12499999j 0.12499999-0.12499999j\n",
      " 0.12499999-0.12499999j 0.12499999-0.12499999j 0.12499999-0.12499999j\n",
      " 0.12499999-0.12499999j 0.12499999-0.12499999j 0.12499999-0.12499999j\n",
      " 0.12499999-0.12499999j 0.12499999-0.12499999j 0.12499999-0.12499999j\n",
      " 0.12499999-0.12499999j 0.12499999-0.12499999j 0.12499999-0.12499999j\n",
      " 0.12499999-0.12499999j 0.12499999-0.12499999j]\n",
      "\n",
      "phase:\n",
      "output vector: |⟩\n"
     ]
    }
   ],
   "source": [
    "# Initialize Simulator\n",
    "s = cirq.Simulator()\n",
    "\n",
    "print('Simulate the circuit:')\n",
    "results = s.simulate(circuit)\n",
    "print(results)\n",
    "\n",
    "# For sampling, we need to add a measurement at the end\n",
    "circuit.append(cirq.measure(qubits[0], qubits[1], qubits[2], qubits[3], qubits[4], key='result'))\n",
    "\n",
    "# Sample the circuit\n",
    "samples = s.run(circuit, repetitions=1000)"
   ]
  },
  {
   "cell_type": "code",
   "execution_count": 4,
   "metadata": {
    "colab": {
     "base_uri": "https://localhost:8080/",
     "height": 487
    },
    "id": "14zA3RKzREOp",
    "outputId": "46e0e5f8-cf8f-462c-93a0-4a8447382d83"
   },
   "outputs": [
    {
     "data": {
      "image/png": "[encoded data removed]",
      "text/plain": [
       "<Figure size 1500x500 with 1 Axes>"
      ]
     },
     "metadata": {},
     "output_type": "display_data"
    }
   ],
   "source": [
    "plt.figure(figsize=(15, 5))\n",
    "cirq.plot_state_histogram(samples, plt.subplot())\n",
    "plt.show()"
   ]
  },
  {
   "cell_type": "markdown",
   "metadata": {
    "id": "EnuIeZP2Slsw"
   },
   "source": [
    "# Circuit 2\n",
    "\n",
    "Swap test is a procedure to check the difference between two quantum states. They\n",
    "\n",
    "\n",
    "There are three ways on (with minor differences) cirq to construct the same quantum circuit. All of them will be given below"
   ]
  },
  {
   "cell_type": "markdown",
   "metadata": {
    "id": "44O70B4yrvB6"
   },
   "source": [
    "## Way1: Creating Custom Gates\n",
    "\n",
    "To create gates out of repeating swap test operations"
   ]
  },
  {
   "cell_type": "code",
   "execution_count": 5,
   "metadata": {
    "id": "521KSrDMR5GO"
   },
   "outputs": [],
   "source": [
    "# Define the number of qubits\n",
    "num_qubits = 6 # 4 actual qubits + 2 ancillary qubits\n",
    "\n",
    "# Create a circuit\n",
    "circuit2 = cirq.Circuit()\n",
    "\n",
    "# Define the qubits\n",
    "qubits = [cirq.LineQubit(i) for i in range(num_qubits)]\n",
    "\n",
    "# Apply Hadamard gate to the first qubit\n",
    "circuit2.append(cirq.H(qubits[0]))\n",
    "\n",
    "# Rotate the second qubit by pi/3 around X\n",
    "circuit2.append(cirq.rx(np.pi / 3).on(qubits[1]))\n",
    "\n",
    "# Apply Hadamard gate to the third and fourth qubit\n",
    "circuit2.append(cirq.H(qubits[2]))\n",
    "circuit2.append(cirq.H(qubits[3]))\n",
    "\n",
    "# Display the circuit\n",
    "# print(circuit2)"
   ]
  },
  {
   "cell_type": "code",
   "execution_count": 6,
   "metadata": {
    "colab": {
     "base_uri": "https://localhost:8080/"
    },
    "id": "sC_5DhB1T-pR",
    "outputId": "0824de4b-0e4f-4559-e172-2031ea58b6fe"
   },
   "outputs": [
    {
     "name": "stdout",
     "output_type": "stream",
     "text": [
      "<__main__.SwapTest object at 0x7f573c2fb3a0>\n"
     ]
    }
   ],
   "source": [
    "# Define a swap test gate.\n",
    "class SwapTest(cirq.Gate):\n",
    "    def __init__(self):\n",
    "        super(SwapTest, self)\n",
    "\n",
    "    def _num_qubits_(self):\n",
    "        return 3\n",
    "\n",
    "    def _decompose_(self, qubits):\n",
    "        yield cirq.H(qubits[2])\n",
    "        yield cirq.CSWAP(qubits[2], qubits[0], qubits[1])\n",
    "        yield cirq.H(qubits[2])\n",
    "\n",
    "    def _circuit_diagram_info_(self, args):\n",
    "        return [\"ST-X\", \"ST-X\", \"ST-C\"]\n",
    "\n",
    "\n",
    "swap_test = SwapTest()\n",
    "print(swap_test)"
   ]
  },
  {
   "cell_type": "code",
   "execution_count": 7,
   "metadata": {
    "colab": {
     "base_uri": "https://localhost:8080/"
    },
    "id": "E7qn2EKYW4y1",
    "outputId": "9e2ac02b-640d-490f-bb71-4da53712bbdb"
   },
   "outputs": [
    {
     "name": "stdout",
     "output_type": "stream",
     "text": [
      "0: ───H────────────ST-X──────────\n",
      "                   │\n",
      "1: ───Rx(0.333π)───ST-X──────────\n",
      "                   │\n",
      "2: ───H────────────┼──────ST-X───\n",
      "                   │      │\n",
      "3: ───H────────────┼──────ST-X───\n",
      "                   │      │\n",
      "4: ────────────────ST-C───┼──────\n",
      "                          │\n",
      "5: ───────────────────────ST-C───\n"
     ]
    }
   ],
   "source": [
    "# add the swap-test gate to the circuit\n",
    "\n",
    "circuit2.append(swap_test(qubits[0], qubits[1], qubits[4]))\n",
    "circuit2.append(swap_test(qubits[2], qubits[3], qubits[5]), strategy=InsertStrategy.NEW)\n",
    "print(circuit2)"
   ]
  },
  {
   "cell_type": "code",
   "execution_count": 8,
   "metadata": {
    "colab": {
     "base_uri": "https://localhost:8080/",
     "height": 850
    },
    "id": "-nW_ELXxbSk0",
    "outputId": "d8f92e66-5ff4-48e5-ba03-18ea14d4599d"
   },
   "outputs": [
    {
     "name": "stdout",
     "output_type": "stream",
     "text": [
      "Simulate the circuit:\n",
      "measurements: result=00000\n",
      "\n",
      "qubits: (cirq.LineQubit(0),)\n",
      "output vector: (0.707-0.707j)|0⟩\n",
      "\n",
      "qubits: (cirq.LineQubit(1),)\n",
      "output vector: |0⟩\n",
      "\n",
      "qubits: (cirq.LineQubit(2),)\n",
      "output vector: |0⟩\n",
      "\n",
      "qubits: (cirq.LineQubit(3),)\n",
      "output vector: |0⟩\n",
      "\n",
      "qubits: (cirq.LineQubit(4),)\n",
      "output vector: |0⟩\n",
      "\n",
      "phase:\n",
      "output vector: |⟩\n"
     ]
    },
    {
     "data": {
      "image/png": "[encoded data removed]",
      "text/plain": [
       "<Figure size 1000x500 with 1 Axes>"
      ]
     },
     "metadata": {},
     "output_type": "display_data"
    }
   ],
   "source": [
    "# Initialize Simulator\n",
    "s2 = cirq.Simulator()\n",
    "\n",
    "print('Simulate the circuit:')\n",
    "results2 = s2.simulate(circuit)\n",
    "print(results2)\n",
    "\n",
    "# For sampling, we need to add a measurement at the end\n",
    "circuit2.append(cirq.measure(qubits[4], qubits[5], key='result'))\n",
    "\n",
    "# Sample the circuit\n",
    "samples2 = s2.run(circuit2, repetitions=1000)\n",
    "\n",
    "plt.figure(figsize=(10, 5))\n",
    "cirq.plot_state_histogram(samples2, plt.subplot())\n",
    "plt.show()"
   ]
  },
  {
   "cell_type": "markdown",
   "metadata": {
    "id": "HMrHYOEqtGxl"
   },
   "source": [
    "## Way2: Appending Subcircuits\n",
    "\n",
    "We can also append subcircuits directly to the circuits by first making the sub-circuit (ie., swap testing) into an operation using ```cirq.CircuitOperation(subcircuit.freeze()) ``` method\n",
    "\n",
    "And then append it directly to the main circuit and change the targeted qubits by using ```circuit3.append(swap_test_op.with_qubit_mapping(dictionary))```\n",
    "the ```dictionary``` will consist of ```key : value``` mappings of old qubits to new qubits\n"
   ]
  },
  {
   "cell_type": "code",
   "execution_count": 9,
   "metadata": {
    "id": "1ijPog-MeAUY"
   },
   "outputs": [],
   "source": [
    "# Define the number of qubits\n",
    "num_qubits = 6\n",
    "\n",
    "# Create a circuit\n",
    "circuit3 = cirq.Circuit()\n",
    "\n",
    "# Define the qubits\n",
    "qubits3 = [cirq.LineQubit(i) for i in range(num_qubits)]\n",
    "\n",
    "# Apply Hadamard gate to the first qubit\n",
    "circuit3.append(cirq.H(qubits3[0]))\n",
    "\n",
    "# Rotate the second qubit by pi/3 around X\n",
    "circuit3.append(cirq.rx(np.pi / 3).on(qubits3[1]))\n",
    "\n",
    "# Apply Hadamard gate to the third and fourth qubit\n",
    "circuit3.append(cirq.H(qubits3[2]))\n",
    "circuit3.append(cirq.H(qubits3[3]))"
   ]
  },
  {
   "cell_type": "code",
   "execution_count": 10,
   "metadata": {
    "colab": {
     "base_uri": "https://localhost:8080/"
    },
    "id": "aGWRNROfsUTZ",
    "outputId": "55047bd2-5abb-48b3-d278-a9ac3972c06a"
   },
   "outputs": [
    {
     "name": "stdout",
     "output_type": "stream",
     "text": [
      "swap-test circuit\n",
      "0: ───────×───────\n",
      "          │\n",
      "1: ───────×───────\n",
      "          │\n",
      "2: ───H───@───H───\n",
      "\n",
      "\n",
      "total circuit with swap tests included\n",
      "                   ┌────────────────────────────────────────────────────────────────────────────────────────────────────────────────────┐\n",
      "                    [ 0: ───────×─────── ]\n",
      "                    [           │        ]\n",
      "0: ───H─────────────[ 1: ───────×─────── ]──────────────────────────────────────────────────────────────────────────────────────────────────\n",
      "                    [           │        ]\n",
      "                    [ 2: ───H───@───H─── ](qubit_map={q(2): q(4)})\n",
      "                    │\n",
      "1: ───Rx(0.333π)────#2──────────────────────────────────────────────────────────────────────────────────────────────────────────────────────\n",
      "                    │\n",
      "                    │                                             [ 0: ───────×─────── ]\n",
      "                    │                                             [           │        ]\n",
      "2: ───H─────────────┼─────────────────────────────────────────────[ 1: ───────×─────── ]────────────────────────────────────────────────────\n",
      "                    │                                             [           │        ]\n",
      "                    │                                             [ 2: ───H───@───H─── ](qubit_map={q(0): q(2), q(1): q(3), q(2): q(5)})\n",
      "                    │                                             │\n",
      "3: ───H─────────────┼─────────────────────────────────────────────#2────────────────────────────────────────────────────────────────────────\n",
      "                    │                                             │\n",
      "4: ─────────────────#3────────────────────────────────────────────┼─────────────────────────────────────────────────────────────────────────\n",
      "                                                                  │\n",
      "5: ───────────────────────────────────────────────────────────────#3────────────────────────────────────────────────────────────────────────\n",
      "                   └────────────────────────────────────────────────────────────────────────────────────────────────────────────────────┘\n"
     ]
    }
   ],
   "source": [
    "# Define the swap test circuit\n",
    "swap_test_circuit = cirq.Circuit()\n",
    "swap_test_qubits = [cirq.LineQubit(i) for i in range(3)]\n",
    "\n",
    "swap_test_circuit.append(cirq.H(swap_test_qubits[2]))\n",
    "swap_test_circuit.append(cirq.CSWAP(swap_test_qubits[2], swap_test_qubits[0], swap_test_qubits[1]))\n",
    "swap_test_circuit.append(cirq.H(swap_test_qubits[2]))\n",
    "\n",
    "print(\"swap-test circuit\")\n",
    "print(swap_test_circuit)\n",
    "\n",
    "# now append the swap test circuits to original circuit\n",
    "swap_test_op = cirq.CircuitOperation(swap_test_circuit.freeze())\n",
    "circuit3.append(swap_test_op.with_qubit_mapping({swap_test_qubits[2]:qubits3[4], swap_test_qubits[0]:qubits3[0], swap_test_qubits[1]:qubits3[1]}))\n",
    "circuit3.append(swap_test_op.with_qubit_mapping({swap_test_qubits[2]:qubits3[5], swap_test_qubits[0]:qubits3[2], swap_test_qubits[1]:qubits3[3]}))\n",
    "\n",
    "print(\"\\n\\ntotal circuit with swap tests included\")\n",
    "print(circuit3)"
   ]
  },
  {
   "cell_type": "code",
   "execution_count": 11,
   "metadata": {
    "colab": {
     "base_uri": "https://localhost:8080/",
     "height": 850
    },
    "id": "5HNiZUWxex4q",
    "outputId": "4dea654a-24e8-401e-eb7c-08cfde364f84"
   },
   "outputs": [
    {
     "name": "stdout",
     "output_type": "stream",
     "text": [
      "Simulate the circuit:\n",
      "measurements: result=00001\n",
      "\n",
      "qubits: (cirq.LineQubit(0),)\n",
      "output vector: (0.707-0.707j)|0⟩\n",
      "\n",
      "qubits: (cirq.LineQubit(1),)\n",
      "output vector: |0⟩\n",
      "\n",
      "qubits: (cirq.LineQubit(2),)\n",
      "output vector: |0⟩\n",
      "\n",
      "qubits: (cirq.LineQubit(3),)\n",
      "output vector: |0⟩\n",
      "\n",
      "qubits: (cirq.LineQubit(4),)\n",
      "output vector: |1⟩\n",
      "\n",
      "phase:\n",
      "output vector: |⟩\n"
     ]
    },
    {
     "data": {
      "image/png": "[encoded data removed]",
      "text/plain": [
       "<Figure size 1000x500 with 1 Axes>"
      ]
     },
     "metadata": {},
     "output_type": "display_data"
    }
   ],
   "source": [
    "# Initialize Simulator\n",
    "s3 = cirq.Simulator()\n",
    "\n",
    "print('Simulate the circuit:')\n",
    "results3 = s3.simulate(circuit)\n",
    "print(results3)\n",
    "\n",
    "# For sampling, we need to add a measurement at the end\n",
    "circuit3.append(cirq.measure(qubits3[4], qubits3[5], key='result'))\n",
    "\n",
    "# Sample the circuit\n",
    "samples3 = s3.run(circuit3, repetitions=1000)\n",
    "\n",
    "plt.figure(figsize=(10, 5))\n",
    "cirq.plot_state_histogram(samples3, plt.subplot())\n",
    "plt.show()"
   ]
  },
  {
   "cell_type": "markdown",
   "metadata": {
    "id": "bcLUcQuBu3JW"
   },
   "source": [
    "## Way3: Manually constructing the whole circuit\n",
    "\n",
    "In this method we manually construct the whole circuit from its decomposed gates, hand calculating what gates act on what qubits."
   ]
  },
  {
   "cell_type": "code",
   "execution_count": 12,
   "metadata": {
    "colab": {
     "base_uri": "https://localhost:8080/"
    },
    "id": "SY5IFOYChoOq",
    "outputId": "0ea91bf5-f81e-433c-d933-ee79ef93f855"
   },
   "outputs": [
    {
     "name": "stdout",
     "output_type": "stream",
     "text": [
      "0: ───H────────────────×───────────────────\n",
      "                       │\n",
      "1: ───Rx(0.333π)───────×───────────────────\n",
      "                       │\n",
      "2: ───H────────────────┼───────────×───────\n",
      "                       │           │\n",
      "3: ───H────────────────┼───────────×───────\n",
      "                       │           │\n",
      "4: ────────────────H───@───H───────┼───────\n",
      "                                   │\n",
      "5: ────────────────────────────H───@───H───\n"
     ]
    }
   ],
   "source": [
    "# Define the number of qubits\n",
    "num_qubits = 6\n",
    "\n",
    "# Create a circuit\n",
    "circuit4 = cirq.Circuit()\n",
    "\n",
    "# Define the qubits\n",
    "qubits4 = [cirq.LineQubit(i) for i in range(num_qubits)]\n",
    "\n",
    "# Apply Hadamard gate to the first qubit\n",
    "circuit4.append(cirq.H(qubits4[0]))\n",
    "\n",
    "# Rotate the second qubit by pi/3 around X\n",
    "circuit4.append(cirq.rx(np.pi / 3).on(qubits4[1]))\n",
    "\n",
    "# Apply Hadamard gate to the third and fourth qubit\n",
    "circuit4.append(cirq.H(qubits4[2]))\n",
    "circuit4.append(cirq.H(qubits4[3]))\n",
    "\n",
    "# swap test on q0, q1 and results on q4\n",
    "circuit4.append(cirq.H(qubits4[4]), strategy=InsertStrategy.NEW)\n",
    "circuit4.append(cirq.CSWAP(*[qubits4[k] for k in [4, 0, 1]]))\n",
    "circuit4.append(cirq.H(qubits4[4]))\n",
    "\n",
    "circuit4.append(cirq.H(qubits4[5]), strategy=InsertStrategy.NEW)\n",
    "circuit4.append(cirq.CSWAP(*[qubits4[k] for k in [5, 2, 3]]))\n",
    "circuit4.append(cirq.H(qubits4[5]))\n",
    "# NEW insert strategy to seperate the two operations and keep the circuit clean\n",
    "\n",
    "print(circuit4)"
   ]
  },
  {
   "cell_type": "code",
   "execution_count": 13,
   "metadata": {
    "colab": {
     "base_uri": "https://localhost:8080/",
     "height": 850
    },
    "id": "Da1h5YeY2mzE",
    "outputId": "007450dc-bddf-4d85-d188-e85c532156c8"
   },
   "outputs": [
    {
     "name": "stdout",
     "output_type": "stream",
     "text": [
      "Simulate the circuit:\n",
      "measurements: result=01110\n",
      "\n",
      "qubits: (cirq.LineQubit(0),)\n",
      "output vector: (0.707-0.707j)|0⟩\n",
      "\n",
      "qubits: (cirq.LineQubit(1),)\n",
      "output vector: |1⟩\n",
      "\n",
      "qubits: (cirq.LineQubit(2),)\n",
      "output vector: |1⟩\n",
      "\n",
      "qubits: (cirq.LineQubit(3),)\n",
      "output vector: |1⟩\n",
      "\n",
      "qubits: (cirq.LineQubit(4),)\n",
      "output vector: |0⟩\n",
      "\n",
      "phase:\n",
      "output vector: |⟩\n"
     ]
    },
    {
     "data": {
      "image/png": "[encoded data removed]",
      "text/plain": [
       "<Figure size 1000x500 with 1 Axes>"
      ]
     },
     "metadata": {},
     "output_type": "display_data"
    }
   ],
   "source": [
    "# Initialize Simulator\n",
    "s4 = cirq.Simulator()\n",
    "\n",
    "print('Simulate the circuit:')\n",
    "results4 = s4.simulate(circuit)\n",
    "print(results4)\n",
    "\n",
    "# For sampling, we need to add a measurement at the end\n",
    "circuit4.append(cirq.measure(qubits4[4], qubits4[5], key='result'))\n",
    "\n",
    "# Sample the circuit\n",
    "samples4 = s4.run(circuit4, repetitions=1000)\n",
    "\n",
    "plt.figure(figsize=(10, 5))\n",
    "cirq.plot_state_histogram(samples4, plt.subplot())\n",
    "plt.show()"
   ]
  },
  {
   "cell_type": "markdown",
   "metadata": {
    "id": "kXG4__EhysHP"
   },
   "source": [
    "## Results and discussion\n",
    "\n",
    "- All the three methods gave similar results. Note that results might vary when the three are compared extremely closely because of the probabilistic nature of measurments on the last 2 qubits\n",
    "\n",
    "\n",
    "- But all the times, we have obtain roughly 75% probability of |00> state and 25% probability of |10> state\n",
    "\n",
    "- This states that qubit 6 is always |0>, which is an indicator of states |q3> and |q4> are identical states (which is true).\n",
    "\n",
    "- The 75 % probability of getting |0> in qubit 5 states that |q0> and |q1> are not equal (since probability is not 1), but it also gives us the overlap (inner product) between the 2 states, using the formula,\n",
    "\n",
    "$$P(|q_6\\rangle = |0\\rangle) \\approx 0.75 = \\frac{1}{2} + \\frac{1}{2}|\\langle q_0 | q_1 \\rangle|^2$$\n",
    "\n",
    "$$ \\implies |\\langle q_0 | q_1 \\rangle|^2 = 0.5 $$\n"
   ]
  },
  {
   "cell_type": "markdown",
   "metadata": {
    "id": "27DKCVmM5YzV"
   },
   "source": [
    "Since we know what the states are, we can verify the results\n",
    "\n",
    "$$ |q_0\\rangle = \\frac{1}{\\sqrt2} (|0\\rangle + |1\\rangle) $$\n",
    "\n",
    "\n",
    "We can get to know q1 without doing the math by simulating the statevector directly"
   ]
  },
  {
   "cell_type": "code",
   "execution_count": 14,
   "metadata": {
    "colab": {
     "base_uri": "https://localhost:8080/"
    },
    "id": "w2AVI5WFx96a",
    "outputId": "9274b205-94f3-41f4-e234-c04a1dc6cea6"
   },
   "outputs": [
    {
     "name": "stdout",
     "output_type": "stream",
     "text": [
      "1: ───Rx(0.333π)───\n"
     ]
    }
   ],
   "source": [
    "test_qubit = cirq.LineQubit(1)\n",
    "circ = cirq.Circuit(cirq.rx(np.pi / 3).on(test_qubit))\n",
    "print(circ)"
   ]
  },
  {
   "cell_type": "code",
   "execution_count": 15,
   "metadata": {
    "colab": {
     "base_uri": "https://localhost:8080/"
    },
    "id": "L8K4HA2K6dlz",
    "outputId": "f9efa505-c6ce-4ca2-c05f-89c70ec943d2"
   },
   "outputs": [
    {
     "name": "stdout",
     "output_type": "stream",
     "text": [
      "measurements: (no measurements)\n",
      "\n",
      "qubits: (cirq.LineQubit(1),)\n",
      "output vector: 0.866|0⟩ - 0.5j|1⟩\n",
      "\n",
      "phase:\n",
      "output vector: |⟩\n"
     ]
    }
   ],
   "source": [
    "simulator = cirq.Simulator()\n",
    "result = simulator.simulate(circ)\n",
    "\n",
    "print(result)"
   ]
  },
  {
   "cell_type": "markdown",
   "metadata": {
    "id": "TewCgp0M8Vye"
   },
   "source": [
    "From the output, we got to know the amplitudes of |0> and |1>. So,\n",
    "\n",
    "$$ |q_1\\rangle = \\frac{\\sqrt3}{2}|0\\rangle - \\frac{i}{2}|1\\rangle $$\n",
    "\n",
    "then\n",
    "\n",
    "$$ |\\langle q_0 | q_1 \\rangle|^2 = | \\frac{\\sqrt3}{2} \\cdot \\frac{1}{\\sqrt2} + \\frac{1}{\\sqrt2} \\cdot \\frac{i}{2} |^2$$\n",
    "\n",
    "$$ \\implies |\\langle q_0 | q_1 \\rangle|^2 = |\\frac{\\sqrt3 - i}{2\\sqrt2}|^2 $$\n",
    "\n",
    "$$ \\implies |\\langle q_0 | q_1 \\rangle|^2 = \\frac{3 + 1}{8} = 0.5 $$\n",
    "\n",
    "Which is what we obtained from the measurements."
   ]
  },
  {
   "cell_type": "code",
   "execution_count": 15,
   "metadata": {
    "id": "oI_b2yLo7dm5"
   },
   "outputs": [],
   "source": []
  }
 ],
 "metadata": {
  "colab": {
   "provenance": []
  },
  "kernelspec": {
   "display_name": "Python 3 (ipykernel)",
   "language": "python",
   "name": "python3"
  },
  "language_info": {
   "codemirror_mode": {
    "name": "ipython",
    "version": 3
   },
   "file_extension": ".py",
   "mimetype": "text/x-python",
   "name": "python",
   "nbconvert_exporter": "python",
   "pygments_lexer": "ipython3",
   "version": "3.10.14"
  }
 },
 "nbformat": 4,
 "nbformat_minor": 4
}
