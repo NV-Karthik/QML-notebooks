{
 "cells": [
  {
   "cell_type": "code",
   "execution_count": 1,
   "id": "645918a1-a008-4457-b4d3-6c8d0b5d7fbd",
   "metadata": {},
   "outputs": [
    {
     "name": "stdout",
     "output_type": "stream",
     "text": [
      "2.1.2.post303\n",
      "CUDA available: True\n"
     ]
    }
   ],
   "source": [
    "# Install required packages.\n",
    "import os\n",
    "import torch\n",
    "os.environ['TORCH'] = torch.__version__\n",
    "print(torch.__version__)\n",
    "print('CUDA available:', torch.cuda.is_available())"
   ]
  },
  {
   "cell_type": "code",
   "execution_count": 2,
   "id": "e135576d-f59e-456e-8999-3b2106aa27e2",
   "metadata": {},
   "outputs": [
    {
     "name": "stderr",
     "output_type": "stream",
     "text": [
      "/home/karthik/anaconda3/lib/python3.10/site-packages/torch_geometric/typing.py:73: UserWarning: An issue occurred while importing 'torch-scatter'. Disabling its usage. Stacktrace: /home/karthik/anaconda3/lib/python3.10/site-packages/torch_scatter/_version_cuda.so: undefined symbol: _ZN5torch3jit17parseSchemaOrNameERKSs\n",
      "  warnings.warn(f\"An issue occurred while importing 'torch-scatter'. \"\n",
      "/home/karthik/anaconda3/lib/python3.10/site-packages/torch_geometric/typing.py:111: UserWarning: An issue occurred while importing 'torch-sparse'. Disabling its usage. Stacktrace: /home/karthik/anaconda3/lib/python3.10/site-packages/torch_sparse/_version_cuda.so: undefined symbol: _ZN5torch3jit17parseSchemaOrNameERKSs\n",
      "  warnings.warn(f\"An issue occurred while importing 'torch-sparse'. \"\n"
     ]
    }
   ],
   "source": [
    "import numpy as np\n",
    "import pandas as pd\n",
    "import matplotlib.pyplot as plt\n",
    "from matplotlib.pyplot import cm\n",
    "\n",
    "from tqdm import tqdm\n",
    "\n",
    "import torch.nn.functional as F\n",
    "from torch.nn import Sequential, Linear, ReLU, BatchNorm1d, Identity, Dropout, Softmax\n",
    "from torch_geometric.nn import EdgeConv, GCNConv, GraphConv\n",
    "from torch_geometric.nn import global_mean_pool\n",
    "from torch_geometric.data import Data\n",
    "from torch_geometric.loader import DataLoader\n",
    "from torch_geometric.utils import from_networkx\n",
    "\n",
    "from torch.utils.tensorboard import SummaryWriter"
   ]
  },
  {
   "cell_type": "code",
   "execution_count": 3,
   "id": "ae25d25e-d471-4ffa-8124-d361f97a34a1",
   "metadata": {},
   "outputs": [
    {
     "name": "stdout",
     "output_type": "stream",
     "text": [
      "<numpy.lib.npyio.NpzFile object at 0x79673bd6080>\n",
      "['X', 'y']\n",
      "(100000, 137, 4)\n",
      "(100000,)\n"
     ]
    }
   ],
   "source": [
    "data = np.load('./task2Datasets/QG_jets_withbc_1.npz')\n",
    "print(data)\n",
    "\n",
    "print(data.files)\n",
    "X = data['X']\n",
    "y = data['y']\n",
    "print(X.shape, y.shape, sep='\\n')"
   ]
  },
  {
   "cell_type": "markdown",
   "id": "65f6919d-d663-42a0-b792-962d27e5c39e",
   "metadata": {},
   "source": [
    "## Utility functions"
   ]
  },
  {
   "cell_type": "code",
   "execution_count": 4,
   "id": "658f52be-4a0e-4e62-aadd-17582cce7508",
   "metadata": {},
   "outputs": [],
   "source": [
    "# arr is a 2d array\n",
    "# function returns a 1d array consisting each row's (jet's) multiplicity\n",
    "\n",
    "def get_multiplicities(arr):\n",
    "    nonzeros = (arr != 0).astype(int)\n",
    "    return np.sum(nonzeros, axis=1)\n",
    "\n",
    "def plot_jets(jet_index, jet_etas, jet_phis):\n",
    "    if jet_index < 0:\n",
    "        raise Excetion('Error, Jet index should be between 0 and 99999')\n",
    "\n",
    "    eta = X[jet_index, :, 1] \n",
    "    phi = X[jet_index, :, 2] \n",
    "    \n",
    "    # remove zero paddings,\n",
    "    nonzero_mask = X[jet_index, :, 1] != 0\n",
    "    eta = X[jet_index, nonzero_mask, 1] - jet_etas[jet_index]\n",
    "    phi = X[jet_index, nonzero_mask, 2] - jet_phis[jet_index]\n",
    "\n",
    "    # check multiplicities\n",
    "    print(eta.shape, phi.shape)\n",
    "    print(get_multiplicities(X[:, :, 1])[jet_index])\n",
    "\n",
    "    # plot\n",
    "    plt.figure(figsize=(8, 3))\n",
    "\n",
    "    plt.subplot(1, 2, 1)\n",
    "    plt.hist2d(eta, phi, cmap='viridis', range=[[-2, 2], [-2, 2]], bins =100)\n",
    "    \n",
    "    plt.subplot(1, 2, 2)\n",
    "    plt.scatter(eta, phi)\n",
    "    ax = plt.gca()\n",
    "    ax.set_xlim([-5, 5])\n",
    "    ax.set_ylim([-5, 5])\n",
    "    \n",
    "    plt.show()"
   ]
  },
  {
   "cell_type": "markdown",
   "id": "77d165fe-3304-452c-bff8-c8d915d228a8",
   "metadata": {},
   "source": [
    "## Feature Engineering"
   ]
  },
  {
   "cell_type": "code",
   "execution_count": 5,
   "id": "cad8878b-d80a-4d60-be0c-f92c69ac3823",
   "metadata": {},
   "outputs": [
    {
     "name": "stdout",
     "output_type": "stream",
     "text": [
      "(100000, 137, 4)\n"
     ]
    }
   ],
   "source": [
    "print(X.shape)"
   ]
  },
  {
   "cell_type": "code",
   "execution_count": 6,
   "id": "0c8bfe68-997f-4a5d-b37c-407063f98ac7",
   "metadata": {},
   "outputs": [
    {
     "name": "stdout",
     "output_type": "stream",
     "text": [
      "transverse momentum bounds: min=0.0, max=548.415807621, mean=3.8235925586685777\n",
      "pseudo-rapidity bounds: min=-2.10354644796, max=2.1094042875, mean=0.0017309813976636966\n",
      "azimuthal angle bounds: min=-0.462937251085, max=6.75555673857, mean=0.9957003344113187\n"
     ]
    }
   ],
   "source": [
    "# checking bounds of dataset\n",
    "print(f'transverse momentum bounds: min={np.min(X[:,:, 0])}, max={np.max(X[:,:, 0])}, mean={np.mean(X[:,:, 0])}')\n",
    "print(f'pseudo-rapidity bounds: min={np.min(X[:,:, 1])}, max={np.max(X[:,:, 1])}, mean={np.mean(X[:,:, 1])}')\n",
    "print(f'azimuthal angle bounds: min={np.min(X[:,:, 2])}, max={np.max(X[:,:, 2])}, mean={np.mean(X[:,:, 2])}')"
   ]
  },
  {
   "cell_type": "markdown",
   "id": "a640a353-192d-4ec9-b8b0-16b29681c1d6",
   "metadata": {},
   "source": [
    "The bounds indicate that they have to be normalized  \n",
    "\n",
    "After getting the jet pT, rapidiy and azimuthal angles, we plot the jets to see if we are getting the correct jet centered images"
   ]
  },
  {
   "cell_type": "code",
   "execution_count": 7,
   "id": "31d2fe63-aad3-4567-b888-980722fc570c",
   "metadata": {},
   "outputs": [
    {
     "name": "stdout",
     "output_type": "stream",
     "text": [
      "(100000,)\n",
      "500.0463140266235 561.457792111489 523.8321805375957\n",
      "(100000,)\n",
      "-1.7755351646578785 1.7951616238948889 0.005324459752633116\n",
      "(100000,)\n",
      "-0.09567027409355122 6.526761820212942 3.1443253285741286\n"
     ]
    }
   ],
   "source": [
    "# creating jet-centered features - step-1\n",
    "\n",
    "# derive jet pT, rapidity and azimuthal angles\n",
    "\n",
    "# assuming jet momentum is the sum of the momenta of all particles\n",
    "jet_pTs = np.sum(X[:, :, 0], axis=1)\n",
    "print(jet_pTs.shape)\n",
    "print(jet_pTs.min(), jet_pTs.max(), jet_pTs.mean())\n",
    "\n",
    "# mean rapidity of all particles is taken as jet rapididty\n",
    "jet_etas = np.sum(X[:, :, 1], axis=1) / get_multiplicities(X[:, :, 1])\n",
    "print(jet_etas.shape)\n",
    "print(jet_etas.min(), jet_etas.max(), jet_etas.mean())\n",
    "\n",
    "# mean of azimuthal angles of all particles is jet azimuthal angle\n",
    "jet_phis = np.sum(X[:, :, 2], axis=1) / get_multiplicities(X[:, :, 2])\n",
    "print(jet_phis.shape)\n",
    "print(jet_phis.min(), jet_phis.max(), jet_phis.mean())"
   ]
  },
  {
   "cell_type": "code",
   "execution_count": 8,
   "id": "89107798-0d29-4747-952c-965fce187f7a",
   "metadata": {},
   "outputs": [
    {
     "name": "stdout",
     "output_type": "stream",
     "text": [
      "(67,) (67,)\n",
      "67\n"
     ]
    },
    {
     "data": {
      "image/png": "[encoded data removed]",
      "text/plain": [
       "<Figure size 800x300 with 2 Axes>"
      ]
     },
     "metadata": {},
     "output_type": "display_data"
    }
   ],
   "source": [
    "# run this function below with a random jet index to see its jet structure plotted on eta-phi plane\n",
    "plot_jets(6950, jet_etas, jet_phis)"
   ]
  },
  {
   "cell_type": "markdown",
   "id": "de6a9126-1d21-45a9-96cd-d25f561c84a6",
   "metadata": {},
   "source": [
    "The images are centered around the origin for all the jets that are checked, so we can proceed creating derived features"
   ]
  },
  {
   "cell_type": "code",
   "execution_count": 9,
   "id": "07c99723-71f6-40ea-9234-7fc5223052ad",
   "metadata": {},
   "outputs": [],
   "source": [
    "# step 2. Create arrays with respective operations\n",
    "\n",
    "# take only non-padded elements\n",
    "particle_mask = (X[:, :, 0] != 0).astype(int)\n",
    "padding_mask = (X[:, :, 0] == 0).astype(int)\n",
    "\n",
    "# delta eta, delta phi features\n",
    "rel_eta_arr = X[:, :, 1] - (particle_mask * jet_etas[:, None])\n",
    "rel_phi_arr = X[:, :, 2] - (particle_mask * jet_phis[:, None])\n",
    "\n",
    "\n",
    "# log(pT) feature\n",
    "log_pT_arr = X[:, :, 0] + (padding_mask * np.ones(X[:, :, 0].shape))\n",
    "log_pT_arr = np.log(log_pT_arr)\n",
    "\n",
    "# log(pT/pT_jet) feature\n",
    "pT_div_pTjet = X[:, :, 0] / (jet_pTs[:, None])\n",
    "log_pT_pTjet_arr = pT_div_pTjet + (padding_mask * np.ones(X[:, :, 0].shape))\n",
    "log_pT_pTjet_arr = np.log(log_pT_pTjet_arr)\n",
    "\n",
    "# delta R feature\n",
    "delta_r_arr = np.sqrt(np.square(rel_eta_arr) + np.square(rel_phi_arr))"
   ]
  },
  {
   "cell_type": "markdown",
   "id": "21731ff2-0108-4203-ae02-33196345e664",
   "metadata": {},
   "source": [
    "The last feature array is left out, Now extracting its details,"
   ]
  },
  {
   "cell_type": "code",
   "execution_count": 10,
   "id": "e09c731f-b481-460d-8b96-5427cf5169ef",
   "metadata": {},
   "outputs": [
    {
     "name": "stdout",
     "output_type": "stream",
     "text": [
      "[   0.   11.   13.   22.  130.  211.  321. 2112. 2212.]\n"
     ]
    }
   ],
   "source": [
    "pdgid = np.abs(X[:, :, 3])\n",
    "\n",
    "pdgid_list = np.ravel(pdgid)\n",
    "print(np.unique(pdgid_list))"
   ]
  },
  {
   "cell_type": "markdown",
   "id": "8163d6be-8834-4191-a2a0-516e430fe015",
   "metadata": {},
   "source": [
    "This output array tells us the pdgid's of all particles encountered in the jets,  \n",
    "so that we can create an exhaustive classification of particles as features\n",
    "\n",
    "output: [   0.   11.   13.   22.  130.  211.  321. 2112. 2212.]\n",
    "\n",
    "Note: This output is consistent across whole dataset, ie., across 2M jets\n",
    "\n",
    "0 -> no data  \n",
    "11 -> electron (charge = -1)  \n",
    "13 -> muon (charge = -1)  \n",
    "22 -> photon (charge = 0)  \n",
    "130 -> $K^{0}_{L}$ (charge = 0)  \n",
    "211 -> $\\pi^{+} Meson$ (charge = +1)\n",
    "321 -> $K^{+} Meson$ (charge = +1)  \n",
    "2112 -> n (charge = 0) in hadron scheme  \n",
    "2212 -> p (charge = +1)\n",
    "\n",
    "We use this data to create additional feature arrays"
   ]
  },
  {
   "cell_type": "code",
   "execution_count": 11,
   "id": "314e4173-fcba-43c6-9674-09c3315f8de6",
   "metadata": {},
   "outputs": [
    {
     "name": "stdout",
     "output_type": "stream",
     "text": [
      "(100000, 137, 11)\n"
     ]
    }
   ],
   "source": [
    "# creating new 2d arrays binning particles into respective categories\n",
    "\n",
    "is_electron_arr = (pdgid == 11).astype(int) # e- is the only particle with pdgid 11\n",
    "is_muon_arr = (pdgid == 13).astype(int) # muon is the only particle with pdgid 13\n",
    "is_photon_arr = (pdgid == 22).astype(int) # photon is the only particle with pdgid 22\n",
    "is_charged_hadron_arr = ((pdgid == 211).astype(int)) + ((pdgid == 2212).astype(int)) # pi meson and protons are charged hadrons\n",
    "is_neutral_hadron_arr = ((pdgid == 130).astype(int)) + ((pdgid == 2112).astype(int)) # pi meson and protons are charged hadrons\n",
    "\n",
    "charge_arr = (is_electron_arr*-1) + (is_muon_arr*-1) + (is_charged_hadron_arr*+1)\n",
    "\n",
    "\n",
    "# now create the data array with all created feature arrays\n",
    "Xnew = np.dstack([rel_eta_arr, rel_phi_arr, log_pT_arr, log_pT_pTjet_arr, delta_r_arr, \n",
    "                 charge_arr, is_electron_arr, is_muon_arr, is_charged_hadron_arr, is_neutral_hadron_arr, is_photon_arr])\n",
    "\n",
    "print(Xnew.shape)"
   ]
  },
  {
   "cell_type": "code",
   "execution_count": 12,
   "id": "050e9ac2-1758-498c-95aa-d4da230cabbe",
   "metadata": {},
   "outputs": [],
   "source": [
    "df = pd.DataFrame(Xnew[:,:,0])\n",
    "df\n",
    "\n",
    "# save this curated dataset into numpy file\n",
    "np.save('./task2Datasets/curated_data', Xnew)\n",
    "np.save('./task2Datasets/labels', y)"
   ]
  },
  {
   "cell_type": "markdown",
   "id": "bf3ee975-8f0b-4c98-b268-eaf3bf58b818",
   "metadata": {},
   "source": [
    "TODO Describe the feature set"
   ]
  },
  {
   "cell_type": "markdown",
   "id": "44fa4f38-d152-4d1e-a274-3f1462fdf139",
   "metadata": {},
   "source": [
    "## Edge-Conv Model"
   ]
  },
  {
   "cell_type": "code",
   "execution_count": 13,
   "id": "835b3b46-a264-44db-bb32-70d4a5ed583b",
   "metadata": {},
   "outputs": [],
   "source": [
    "# generate edge list of k-nearest neighbors of a node using given coordinates\n",
    "\n",
    "def knn_particle_graph(positions, k):\n",
    "  # Calculate pairwise distances between nodes\n",
    "  n_nodes = positions.shape[0]\n",
    "  distance_matrix = np.linalg.norm(positions[:, None] - positions[None, :], axis=2)\n",
    "\n",
    "  # Extract top k nearest neighbors for each node (excluding itself)\n",
    "  edge_list = []\n",
    "  for i in range(n_nodes):\n",
    "    # Sort distances in ascending order and get indices\n",
    "    sorted_indices = np.argsort(distance_matrix[i])\n",
    "    # Select top k neighbors (excluding itself)\n",
    "    neighbors = sorted_indices[1: k + 1]\n",
    "    # Create edges between the node and its neighbors\n",
    "    for neighbor in neighbors:\n",
    "      edge_list.append((i, neighbor))\n",
    "\n",
    "  return edge_list"
   ]
  },
  {
   "cell_type": "code",
   "execution_count": 14,
   "id": "aa85df80-2f94-4b6b-97b1-2b1c6536c716",
   "metadata": {},
   "outputs": [],
   "source": [
    "import networkx as nx\n",
    "\n",
    "# function to visualize jet data as graphs\n",
    "def visualize_jet_graph(jet_index):\n",
    "    mask = Xnew[jet_index, :, 0] != 0\n",
    "    pos = Xnew[jet_index, mask, 0:2]\n",
    "    node_indices = list(range(len(pos)))\n",
    "    edges = knn_particle_graph(pos, 7)\n",
    "    \n",
    "    G = nx.Graph()\n",
    "    \n",
    "    node_positions = {}\n",
    "    \n",
    "    for i in node_indices:\n",
    "        node_positions.update({i:pos[i]})\n",
    "    \n",
    "    G.add_nodes_from(node_positions.keys())\n",
    "    nx.set_node_attributes(G, node_positions, 'pos')\n",
    "    G.add_edges_from(edges)\n",
    "    \n",
    "    # visualize\n",
    "    plot_pos = nx.get_node_attributes(G, 'pos')\n",
    "    nx.draw(G, plot_pos, with_labels=True, node_size=500, node_color='skyblue', font_size=12)\n",
    "    nx.draw_networkx_edges(G, plot_pos, edge_color='gray')\n",
    "    plt.show()"
   ]
  },
  {
   "cell_type": "code",
   "execution_count": 15,
   "id": "7227636f-5d3e-4bf8-98c7-fb8d76efab37",
   "metadata": {},
   "outputs": [
    {
     "data": {
      "image/png": "[encoded data removed]",
      "text/plain": [
       "<Figure size 640x480 with 1 Axes>"
      ]
     },
     "metadata": {},
     "output_type": "display_data"
    }
   ],
   "source": [
    "# sample graph representation for a jet indexed 25\n",
    "visualize_jet_graph(15000)"
   ]
  },
  {
   "cell_type": "markdown",
   "id": "f40fe769-ae04-45d8-b957-c5fc95f27185",
   "metadata": {},
   "source": [
    "## Dataloading into Pytorch"
   ]
  },
  {
   "cell_type": "code",
   "execution_count": 16,
   "id": "1dd7e301-85af-4496-b8a7-da1583649690",
   "metadata": {},
   "outputs": [],
   "source": [
    "from torch_geometric.data import Dataset\n",
    "from torch_geometric.data import Data\n",
    "\n",
    "class JetGraphDataset(Dataset):\n",
    "    def __init__(self, root, filename, test=False, transform=None, pre_transform=None, pre_filter=None):\n",
    "        # root (where dataset is stored) -> raw_dir = we put in original dataset file\n",
    "        #                                -> processed_dir = pytorch fills up intermediate/processed datasets\n",
    "\n",
    "        self.test = test\n",
    "        self.filename = filename\n",
    "        super(JetGraphDataset, self).__init__(root, transform, pre_transform, pre_filter)\n",
    "\n",
    "    @property\n",
    "    def raw_file_names(self):\n",
    "        # file name of dataset, should return a string\n",
    "        # if pytorch finds files with this name, no download will be triggered\n",
    "        return self.filename\n",
    "\n",
    "    @property\n",
    "    def processed_file_names(self):\n",
    "        # names of files pytorch should give to processed datafiles\n",
    "        # if these files are found, process() function will not be triggered\n",
    "        if self.test:\n",
    "            return ['data_test.pt']\n",
    "        else:\n",
    "            return ['data.pt']\n",
    "\n",
    "    def download(self):\n",
    "        pass\n",
    "\n",
    "    def process(self):\n",
    "        # create the graph and pass it to the model as data obj\n",
    "        self.data = np.load(self.raw_paths[0])\n",
    "        labels = np.load('./task2Datasets/labels.npy')\n",
    "        \n",
    "        for jet_index in tqdm(range(self.data.shape[0])):\n",
    "            k = 7    \n",
    "            # constuct graph for each jet\n",
    "            mask = self.data[jet_index, :, 0] != 0\n",
    "            pos = self.data[jet_index, mask, 0:2]\n",
    "            node_indices = list(range(len(pos)))\n",
    "            edges = knn_particle_graph(pos, k)\n",
    "\n",
    "            # create the graph object in networkx\n",
    "            G = nx.Graph()\n",
    "            node_positions = {}\n",
    "            for i in node_indices:\n",
    "                node_positions.update({i:pos[i]})\n",
    "            G.add_nodes_from(node_positions.keys())\n",
    "            nx.set_node_attributes(G, node_positions, 'pos')\n",
    "            G.add_edges_from(edges)\n",
    "\n",
    "            \n",
    "            # extract required data from graph object\n",
    "            node_features = torch.tensor(self.data[jet_index, mask, :], dtype=torch.float)\n",
    "            \n",
    "            edge_index_no_duplicates = G.edges()\n",
    "            edge_indices = []\n",
    "            for edge in edge_index_no_duplicates:\n",
    "                i = edge[0]\n",
    "                j = edge[1]\n",
    "                edge_indices += [[i, j], [j, i]]\n",
    "            edge_indices = torch.tensor(edge_indices)\n",
    "            edge_indices = edge_indices.t().to(torch.long).view(2, -1)\n",
    "            \n",
    "            edge_features = torch.tensor(self._get_edge_features(edges, pos, jet_index), dtype=torch.float)\n",
    "            \n",
    "            label = torch.tensor(np.asarray([labels[jet_index]]), dtype=torch.int64)\n",
    "            \n",
    "            data = Data(x = node_features,\n",
    "                        edge_index = edge_indices,\n",
    "                        edge_attr = edge_features,\n",
    "                        y = label,\n",
    "                        jet_index = torch.tensor(jet_index, dtype=torch.int64))\n",
    "\n",
    "            if self.test:\n",
    "                torch.save(data, \n",
    "                    os.path.join(self.processed_dir, \n",
    "                                 f'data_test_{jet_index}.pt'))\n",
    "            else:\n",
    "                torch.save(data, \n",
    "                    os.path.join(self.processed_dir, \n",
    "                                 f'data_{jet_index}.pt'))\n",
    "\n",
    "    def _get_edge_features(self, edge_list, pos, jet_index):\n",
    "        edge_lengths = []\n",
    "        same_particle = []\n",
    "        for p_id1, p_id2 in edge_list:\n",
    "            edge_length = np.sqrt((pos[p_id1, 0]-pos[p_id2, 0])**2 + (pos[p_id1, 1]-pos[p_id2, 1])**2)\n",
    "            edge_lengths.append(edge_length)\n",
    "\n",
    "            if all(self.data[jet_index, p_id1, 6:11] == self.data[jet_index, p_id2, 6:11]):\n",
    "                same_particle.append(1)\n",
    "            else:\n",
    "                same_particle.append(0)\n",
    "\n",
    "        return np.vstack([edge_lengths, same_particle]).T\n",
    "        \n",
    "\n",
    "    def len(self):\n",
    "        return self.data.shape[0]\n",
    "\n",
    "    def get(self, idx):\n",
    "        if self.test:\n",
    "            data = torch.load(os.path.join(self.processed_dir, \n",
    "                                 f'data_test_{idx}.pt'))\n",
    "        else:\n",
    "            data = torch.load(os.path.join(self.processed_dir, \n",
    "                                 f'data_{idx}.pt'))   \n",
    "        return data"
   ]
  },
  {
   "cell_type": "code",
   "execution_count": 17,
   "id": "2e30cdd1-a1fe-4d2c-a5c3-9c57f2e93606",
   "metadata": {},
   "outputs": [
    {
     "name": "stderr",
     "output_type": "stream",
     "text": [
      "Processing...\n",
      "100%|██████████████████████████████████| 100000/100000 [02:33<00:00, 650.00it/s]\n",
      "Done!\n"
     ]
    }
   ],
   "source": [
    "dataset = JetGraphDataset(root='./task2Datasets/', filename='curated_data.npy')\n",
    "\n",
    "# Train/test split (80-20)\n",
    "train_share = int(len(dataset) * 0.8)\n",
    "\n",
    "train_dataset = dataset[:train_share]\n",
    "test_dataset = dataset[train_share:]"
   ]
  },
  {
   "cell_type": "markdown",
   "id": "1845282b-1699-4eba-a616-88c88c699f0c",
   "metadata": {},
   "source": [
    "## Model - 1"
   ]
  },
  {
   "cell_type": "markdown",
   "id": "1e2b0ffa-eb36-4e0e-bfe5-ec532ffdd6a5",
   "metadata": {},
   "source": [
    "### Definition"
   ]
  },
  {
   "cell_type": "code",
   "execution_count": 18,
   "id": "7c728166-a1c1-4ebe-9773-9d15168fb7e4",
   "metadata": {},
   "outputs": [],
   "source": [
    "class EdgeConvNetwork1(torch.nn.Module):\n",
    "    def __init__(self, hidden_channels):\n",
    "        super().__init__()\n",
    "\n",
    "        self.hidden_channels2 = 2 * hidden_channels\n",
    "        self.hidden_channels3 = 4 * hidden_channels\n",
    "        \n",
    "        # Initialize MLPs used by EdgeConv layers\n",
    "        self.mlp1 = Sequential(Linear(2 * dataset.num_node_features, hidden_channels),\n",
    "                              BatchNorm1d(hidden_channels),\n",
    "                              ReLU(),\n",
    "                              Linear(hidden_channels, hidden_channels),\n",
    "                              BatchNorm1d(hidden_channels),\n",
    "                              ReLU(),\n",
    "                              Linear(hidden_channels, hidden_channels),\n",
    "                              BatchNorm1d(hidden_channels),\n",
    "                              ReLU(),\n",
    "                              )\n",
    "        self.mlp2 = Sequential(Linear(2* hidden_channels, self.hidden_channels2),\n",
    "                              BatchNorm1d(self.hidden_channels2),\n",
    "                              ReLU(),\n",
    "                              Linear(self.hidden_channels2, self.hidden_channels2),\n",
    "                              BatchNorm1d(self.hidden_channels2),\n",
    "                              ReLU(),\n",
    "                              Linear(self.hidden_channels2, self.hidden_channels2),\n",
    "                              BatchNorm1d(self.hidden_channels2),\n",
    "                              ReLU(),\n",
    "                              )\n",
    "\n",
    "        self.conv1 = EdgeConv(self.mlp1, aggr='mean')\n",
    "        self.conv2 = EdgeConv(self.mlp2, aggr='mean')\n",
    "\n",
    "        # Shortcut connections\n",
    "        self.shortcut1 = Linear(dataset.num_node_features, hidden_channels)\n",
    "        self.shortcut2 = Linear(hidden_channels, self.hidden_channels2)\n",
    "\n",
    "        # Fully connected layer with dropout\n",
    "        self.fc1 = Sequential(\n",
    "            Linear(in_features=self.hidden_channels2, out_features=self.hidden_channels3),\n",
    "            ReLU(),\n",
    "            Dropout(p=0.1)\n",
    "        )\n",
    "        # second fully connected layer\n",
    "        self.fc2 = Sequential(\n",
    "            Linear(in_features=self.hidden_channels3, out_features=2),\n",
    "        )\n",
    "\n",
    "    def forward(self, data):\n",
    "        x, edge_index, batch = data.x, data.edge_index, data.batch\n",
    "\n",
    "        # 1st edge convolution block\n",
    "        out = self.conv1(x, edge_index)\n",
    "        out = out + self.shortcut1(x)\n",
    "        out = F.relu(out)\n",
    "        out1 = out.detach().clone()\n",
    "        # 2nd edge convolution block - uses the learned feature vectors as inputs\n",
    "        out = self.conv2(out, edge_index)\n",
    "        out = out + self.shortcut2(out1)\n",
    "        out = F.relu(out)\n",
    "        # global average pooling\n",
    "        out = global_mean_pool(out, batch)\n",
    "        # fully-connected-1\n",
    "        out = self.fc1(out)\n",
    "        # fully-connected-2\n",
    "        out = self.fc2(out)\n",
    "\n",
    "        out = F.softmax(out, dim=0)\n",
    "\n",
    "        return out"
   ]
  },
  {
   "cell_type": "code",
   "execution_count": 19,
   "id": "5f88bf42-7c23-4394-a130-d6c05738f4d6",
   "metadata": {},
   "outputs": [
    {
     "name": "stdout",
     "output_type": "stream",
     "text": [
      "EdgeConvNetwork1(\n",
      "  (mlp1): Sequential(\n",
      "    (0): Linear(in_features=22, out_features=64, bias=True)\n",
      "    (1): BatchNorm1d(64, eps=1e-05, momentum=0.1, affine=True, track_running_stats=True)\n",
      "    (2): ReLU()\n",
      "    (3): Linear(in_features=64, out_features=64, bias=True)\n",
      "    (4): BatchNorm1d(64, eps=1e-05, momentum=0.1, affine=True, track_running_stats=True)\n",
      "    (5): ReLU()\n",
      "    (6): Linear(in_features=64, out_features=64, bias=True)\n",
      "    (7): BatchNorm1d(64, eps=1e-05, momentum=0.1, affine=True, track_running_stats=True)\n",
      "    (8): ReLU()\n",
      "  )\n",
      "  (mlp2): Sequential(\n",
      "    (0): Linear(in_features=128, out_features=128, bias=True)\n",
      "    (1): BatchNorm1d(128, eps=1e-05, momentum=0.1, affine=True, track_running_stats=True)\n",
      "    (2): ReLU()\n",
      "    (3): Linear(in_features=128, out_features=128, bias=True)\n",
      "    (4): BatchNorm1d(128, eps=1e-05, momentum=0.1, affine=True, track_running_stats=True)\n",
      "    (5): ReLU()\n",
      "    (6): Linear(in_features=128, out_features=128, bias=True)\n",
      "    (7): BatchNorm1d(128, eps=1e-05, momentum=0.1, affine=True, track_running_stats=True)\n",
      "    (8): ReLU()\n",
      "  )\n",
      "  (conv1): EdgeConv(nn=Sequential(\n",
      "    (0): Linear(in_features=22, out_features=64, bias=True)\n",
      "    (1): BatchNorm1d(64, eps=1e-05, momentum=0.1, affine=True, track_running_stats=True)\n",
      "    (2): ReLU()\n",
      "    (3): Linear(in_features=64, out_features=64, bias=True)\n",
      "    (4): BatchNorm1d(64, eps=1e-05, momentum=0.1, affine=True, track_running_stats=True)\n",
      "    (5): ReLU()\n",
      "    (6): Linear(in_features=64, out_features=64, bias=True)\n",
      "    (7): BatchNorm1d(64, eps=1e-05, momentum=0.1, affine=True, track_running_stats=True)\n",
      "    (8): ReLU()\n",
      "  ))\n",
      "  (conv2): EdgeConv(nn=Sequential(\n",
      "    (0): Linear(in_features=128, out_features=128, bias=True)\n",
      "    (1): BatchNorm1d(128, eps=1e-05, momentum=0.1, affine=True, track_running_stats=True)\n",
      "    (2): ReLU()\n",
      "    (3): Linear(in_features=128, out_features=128, bias=True)\n",
      "    (4): BatchNorm1d(128, eps=1e-05, momentum=0.1, affine=True, track_running_stats=True)\n",
      "    (5): ReLU()\n",
      "    (6): Linear(in_features=128, out_features=128, bias=True)\n",
      "    (7): BatchNorm1d(128, eps=1e-05, momentum=0.1, affine=True, track_running_stats=True)\n",
      "    (8): ReLU()\n",
      "  ))\n",
      "  (shortcut1): Linear(in_features=11, out_features=64, bias=True)\n",
      "  (shortcut2): Linear(in_features=64, out_features=128, bias=True)\n",
      "  (fc1): Sequential(\n",
      "    (0): Linear(in_features=128, out_features=256, bias=True)\n",
      "    (1): ReLU()\n",
      "    (2): Dropout(p=0.1, inplace=False)\n",
      "  )\n",
      "  (fc2): Sequential(\n",
      "    (0): Linear(in_features=256, out_features=2, bias=True)\n",
      "  )\n",
      ")\n",
      "Num parameters:  103106\n"
     ]
    }
   ],
   "source": [
    "# instantiate model and print summary\n",
    "\n",
    "def count_parameters(model):\n",
    "    return sum(p.numel() for p in model.parameters() if p.requires_grad)\n",
    "\n",
    "model = EdgeConvNetwork1(64)\n",
    "print(model)\n",
    "\n",
    "print('Num parameters: ', count_parameters(model))"
   ]
  },
  {
   "cell_type": "markdown",
   "id": "63d3ed5f-a78c-4f44-9118-bc727e3a0264",
   "metadata": {},
   "source": [
    "### Training and Evaluation function definitions"
   ]
  },
  {
   "cell_type": "code",
   "execution_count": 20,
   "id": "c7fea72f-85e3-45d4-9596-f0c67ec7fa20",
   "metadata": {},
   "outputs": [],
   "source": [
    "def train(model, loss_fn, device, data_loader, optimizer):\n",
    "    \"\"\" Performs an epoch of model training.\n",
    "\n",
    "    Parameters:\n",
    "    model (nn.Module): Model to be trained.\n",
    "    loss_fn (nn.Module): Loss function for training.\n",
    "    device (torch.Device): Device used for training.\n",
    "    data_loader (torch.utils.data.DataLoader): Data loader containing all batches.\n",
    "    optimizer (torch.optim.Optimizer): Optimizer used to update model.\n",
    "\n",
    "    Returns:\n",
    "    float: Total loss for epoch.\n",
    "    \"\"\"\n",
    "    model.train()\n",
    "    loss = 0\n",
    "\n",
    "    for batch in tqdm(data_loader):\n",
    "        batch = batch.to(device)\n",
    "\n",
    "        optimizer.zero_grad()\n",
    "        out = model(batch)\n",
    "\n",
    "        loss = loss_fn(out, batch.y)\n",
    "\n",
    "        loss.backward()\n",
    "        optimizer.step()\n",
    "\n",
    "    return loss.item()\n",
    "\n",
    "def eval(model, device, loader):\n",
    "    \"\"\" Calculate accuracy for all examples in a DataLoader.\n",
    "\n",
    "    Parameters:\n",
    "    model (nn.Module): Model to be evaluated.\n",
    "    device (torch.Device): Device used for training.\n",
    "    loader (torch.utils.data.DataLoader): DataLoader containing examples to test.\n",
    "    \"\"\"\n",
    "    model.eval()\n",
    "    cor = 0\n",
    "    tot = 0\n",
    "\n",
    "    for batch in loader:\n",
    "        batch = batch.to(device)\n",
    "\n",
    "        with torch.no_grad():\n",
    "            pred = torch.argmax(model(batch), 1)\n",
    "\n",
    "        y = batch.y\n",
    "        cor += (pred == y).sum()\n",
    "        tot += pred.shape[0]\n",
    "\n",
    "    return cor / tot"
   ]
  },
  {
   "cell_type": "markdown",
   "id": "596717a4-3fdd-431a-acef-2a74c6bdcb9e",
   "metadata": {},
   "source": [
    "### Training and Model Evaulation"
   ]
  },
  {
   "cell_type": "code",
   "execution_count": 23,
   "id": "db74d243-b042-4458-9c64-8db04d4a449f",
   "metadata": {},
   "outputs": [
    {
     "name": "stderr",
     "output_type": "stream",
     "text": [
      "100%|█████████████████████████████████████████| 625/625 [00:28<00:00, 21.65it/s]\n"
     ]
    },
    {
     "name": "stdout",
     "output_type": "stream",
     "text": [
      "Epoch: 01, LR: 1.06E-03, Loss: 0.6865, Train: 76.78%, Test: 76.71%\n"
     ]
    },
    {
     "name": "stderr",
     "output_type": "stream",
     "text": [
      "100%|█████████████████████████████████████████| 625/625 [00:28<00:00, 21.61it/s]\n"
     ]
    },
    {
     "name": "stdout",
     "output_type": "stream",
     "text": [
      "Epoch: 02, LR: 1.63E-03, Loss: 0.6863, Train: 77.43%, Test: 77.27%\n"
     ]
    },
    {
     "name": "stderr",
     "output_type": "stream",
     "text": [
      "100%|█████████████████████████████████████████| 625/625 [00:29<00:00, 21.53it/s]\n"
     ]
    },
    {
     "name": "stdout",
     "output_type": "stream",
     "text": [
      "Epoch: 03, LR: 2.19E-03, Loss: 0.6859, Train: 77.71%, Test: 77.61%\n"
     ]
    },
    {
     "name": "stderr",
     "output_type": "stream",
     "text": [
      "100%|█████████████████████████████████████████| 625/625 [00:29<00:00, 21.49it/s]\n"
     ]
    },
    {
     "name": "stdout",
     "output_type": "stream",
     "text": [
      "Epoch: 04, LR: 2.75E-03, Loss: 0.6856, Train: 77.99%, Test: 77.90%\n"
     ]
    },
    {
     "name": "stderr",
     "output_type": "stream",
     "text": [
      "100%|█████████████████████████████████████████| 625/625 [00:29<00:00, 21.50it/s]\n"
     ]
    },
    {
     "name": "stdout",
     "output_type": "stream",
     "text": [
      "Epoch: 05, LR: 3.31E-03, Loss: 0.6868, Train: 77.50%, Test: 77.31%\n"
     ]
    },
    {
     "name": "stderr",
     "output_type": "stream",
     "text": [
      "100%|█████████████████████████████████████████| 625/625 [00:29<00:00, 21.48it/s]\n"
     ]
    },
    {
     "name": "stdout",
     "output_type": "stream",
     "text": [
      "Epoch: 06, LR: 3.88E-03, Loss: 0.6857, Train: 78.16%, Test: 78.27%\n"
     ]
    },
    {
     "name": "stderr",
     "output_type": "stream",
     "text": [
      "100%|█████████████████████████████████████████| 625/625 [00:29<00:00, 21.49it/s]\n"
     ]
    },
    {
     "name": "stdout",
     "output_type": "stream",
     "text": [
      "Epoch: 07, LR: 4.44E-03, Loss: 0.6861, Train: 77.80%, Test: 77.88%\n"
     ]
    },
    {
     "name": "stderr",
     "output_type": "stream",
     "text": [
      "100%|█████████████████████████████████████████| 625/625 [00:29<00:00, 21.45it/s]\n"
     ]
    },
    {
     "name": "stdout",
     "output_type": "stream",
     "text": [
      "Epoch: 08, LR: 5.00E-03, Loss: 0.6859, Train: 77.85%, Test: 77.78%\n"
     ]
    },
    {
     "name": "stderr",
     "output_type": "stream",
     "text": [
      "100%|█████████████████████████████████████████| 625/625 [00:29<00:00, 21.45it/s]\n"
     ]
    },
    {
     "name": "stdout",
     "output_type": "stream",
     "text": [
      "Epoch: 09, LR: 4.44E-03, Loss: 0.6860, Train: 78.04%, Test: 78.07%\n"
     ]
    },
    {
     "name": "stderr",
     "output_type": "stream",
     "text": [
      "100%|█████████████████████████████████████████| 625/625 [00:29<00:00, 21.44it/s]\n"
     ]
    },
    {
     "name": "stdout",
     "output_type": "stream",
     "text": [
      "Epoch: 10, LR: 3.87E-03, Loss: 0.6864, Train: 77.96%, Test: 78.01%\n"
     ]
    },
    {
     "name": "stderr",
     "output_type": "stream",
     "text": [
      "100%|█████████████████████████████████████████| 625/625 [00:29<00:00, 21.45it/s]\n"
     ]
    },
    {
     "name": "stdout",
     "output_type": "stream",
     "text": [
      "Epoch: 11, LR: 3.31E-03, Loss: 0.6856, Train: 78.00%, Test: 77.97%\n"
     ]
    },
    {
     "name": "stderr",
     "output_type": "stream",
     "text": [
      "100%|█████████████████████████████████████████| 625/625 [00:29<00:00, 21.45it/s]\n"
     ]
    },
    {
     "name": "stdout",
     "output_type": "stream",
     "text": [
      "Epoch: 12, LR: 2.75E-03, Loss: 0.6857, Train: 77.63%, Test: 77.44%\n"
     ]
    },
    {
     "name": "stderr",
     "output_type": "stream",
     "text": [
      "100%|█████████████████████████████████████████| 625/625 [00:29<00:00, 21.44it/s]\n"
     ]
    },
    {
     "name": "stdout",
     "output_type": "stream",
     "text": [
      "Epoch: 13, LR: 2.19E-03, Loss: 0.6856, Train: 78.06%, Test: 77.87%\n"
     ]
    },
    {
     "name": "stderr",
     "output_type": "stream",
     "text": [
      "100%|█████████████████████████████████████████| 625/625 [00:29<00:00, 21.43it/s]\n"
     ]
    },
    {
     "name": "stdout",
     "output_type": "stream",
     "text": [
      "Epoch: 14, LR: 1.62E-03, Loss: 0.6872, Train: 77.93%, Test: 77.69%\n"
     ]
    },
    {
     "name": "stderr",
     "output_type": "stream",
     "text": [
      "100%|█████████████████████████████████████████| 625/625 [00:29<00:00, 21.45it/s]\n"
     ]
    },
    {
     "name": "stdout",
     "output_type": "stream",
     "text": [
      "Epoch: 15, LR: 1.06E-03, Loss: 0.6858, Train: 77.56%, Test: 77.42%\n"
     ]
    },
    {
     "name": "stderr",
     "output_type": "stream",
     "text": [
      "100%|█████████████████████████████████████████| 625/625 [00:29<00:00, 21.44it/s]\n"
     ]
    },
    {
     "name": "stdout",
     "output_type": "stream",
     "text": [
      "Epoch: 16, LR: 5.00E-04, Loss: 0.6859, Train: 77.83%, Test: 77.65%\n"
     ]
    },
    {
     "name": "stderr",
     "output_type": "stream",
     "text": [
      "100%|█████████████████████████████████████████| 625/625 [00:29<00:00, 21.43it/s]\n"
     ]
    },
    {
     "name": "stdout",
     "output_type": "stream",
     "text": [
      "Epoch: 17, LR: 1.00E-04, Loss: 0.6864, Train: 77.86%, Test: 77.73%\n"
     ]
    },
    {
     "name": "stderr",
     "output_type": "stream",
     "text": [
      "100%|█████████████████████████████████████████| 625/625 [00:29<00:00, 21.43it/s]\n"
     ]
    },
    {
     "name": "stdout",
     "output_type": "stream",
     "text": [
      "Epoch: 18, LR: 2.00E-05, Loss: 0.6865, Train: 78.03%, Test: 78.17%\n"
     ]
    },
    {
     "name": "stderr",
     "output_type": "stream",
     "text": [
      "100%|█████████████████████████████████████████| 625/625 [00:29<00:00, 21.42it/s]\n"
     ]
    },
    {
     "name": "stdout",
     "output_type": "stream",
     "text": [
      "Epoch: 19, LR: 4.00E-06, Loss: 0.6858, Train: 78.54%, Test: 78.53%\n"
     ]
    },
    {
     "name": "stderr",
     "output_type": "stream",
     "text": [
      "100%|█████████████████████████████████████████| 625/625 [00:29<00:00, 21.40it/s]\n"
     ]
    },
    {
     "name": "stdout",
     "output_type": "stream",
     "text": [
      "Epoch: 20, LR: 8.00E-07, Loss: 0.6857, Train: 77.98%, Test: 77.89%\n"
     ]
    },
    {
     "name": "stderr",
     "output_type": "stream",
     "text": [
      "100%|█████████████████████████████████████████| 625/625 [00:29<00:00, 21.37it/s]\n"
     ]
    },
    {
     "name": "stdout",
     "output_type": "stream",
     "text": [
      "Epoch: 21, LR: 1.60E-07, Loss: 0.6863, Train: 78.33%, Test: 78.40%\n"
     ]
    },
    {
     "name": "stderr",
     "output_type": "stream",
     "text": [
      "100%|█████████████████████████████████████████| 625/625 [00:29<00:00, 21.41it/s]\n"
     ]
    },
    {
     "name": "stdout",
     "output_type": "stream",
     "text": [
      "Epoch: 22, LR: 3.20E-08, Loss: 0.6863, Train: 77.97%, Test: 77.98%\n"
     ]
    },
    {
     "name": "stderr",
     "output_type": "stream",
     "text": [
      "100%|█████████████████████████████████████████| 625/625 [00:29<00:00, 21.40it/s]\n"
     ]
    },
    {
     "name": "stdout",
     "output_type": "stream",
     "text": [
      "Epoch: 23, LR: 6.40E-09, Loss: 0.6856, Train: 78.62%, Test: 78.40%\n"
     ]
    },
    {
     "name": "stderr",
     "output_type": "stream",
     "text": [
      "100%|█████████████████████████████████████████| 625/625 [00:29<00:00, 21.40it/s]\n"
     ]
    },
    {
     "name": "stdout",
     "output_type": "stream",
     "text": [
      "Epoch: 24, LR: 1.28E-09, Loss: 0.6857, Train: 77.30%, Test: 77.03%\n"
     ]
    },
    {
     "name": "stderr",
     "output_type": "stream",
     "text": [
      "100%|█████████████████████████████████████████| 625/625 [00:29<00:00, 21.40it/s]\n"
     ]
    },
    {
     "name": "stdout",
     "output_type": "stream",
     "text": [
      "Epoch: 25, LR: 2.56E-10, Loss: 0.6857, Train: 76.76%, Test: 76.38%\n"
     ]
    },
    {
     "name": "stderr",
     "output_type": "stream",
     "text": [
      "100%|█████████████████████████████████████████| 625/625 [00:29<00:00, 21.43it/s]\n"
     ]
    },
    {
     "name": "stdout",
     "output_type": "stream",
     "text": [
      "Epoch: 26, LR: 5.12E-11, Loss: 0.6858, Train: 77.71%, Test: 77.58%\n"
     ]
    },
    {
     "name": "stderr",
     "output_type": "stream",
     "text": [
      "100%|█████████████████████████████████████████| 625/625 [00:29<00:00, 21.43it/s]\n"
     ]
    },
    {
     "name": "stdout",
     "output_type": "stream",
     "text": [
      "Epoch: 27, LR: 1.02E-11, Loss: 0.6857, Train: 77.18%, Test: 76.83%\n"
     ]
    },
    {
     "name": "stderr",
     "output_type": "stream",
     "text": [
      "100%|█████████████████████████████████████████| 625/625 [00:29<00:00, 21.34it/s]\n"
     ]
    },
    {
     "name": "stdout",
     "output_type": "stream",
     "text": [
      "Epoch: 28, LR: 2.05E-12, Loss: 0.6857, Train: 78.16%, Test: 77.97%\n"
     ]
    },
    {
     "name": "stderr",
     "output_type": "stream",
     "text": [
      "100%|█████████████████████████████████████████| 625/625 [00:29<00:00, 21.42it/s]\n"
     ]
    },
    {
     "name": "stdout",
     "output_type": "stream",
     "text": [
      "Epoch: 29, LR: 4.10E-13, Loss: 0.6872, Train: 77.11%, Test: 76.80%\n"
     ]
    },
    {
     "name": "stderr",
     "output_type": "stream",
     "text": [
      "100%|█████████████████████████████████████████| 625/625 [00:29<00:00, 21.41it/s]\n"
     ]
    },
    {
     "name": "stdout",
     "output_type": "stream",
     "text": [
      "Epoch: 30, LR: 8.19E-14, Loss: 0.6857, Train: 77.26%, Test: 77.06%\n"
     ]
    },
    {
     "data": {
      "image/png": "[encoded data removed]",
      "text/plain": [
       "<Figure size 640x480 with 1 Axes>"
      ]
     },
     "metadata": {},
     "output_type": "display_data"
    }
   ],
   "source": [
    "device = torch.device(\"cuda\" if torch.cuda.is_available() else \"cpu\")\n",
    "\n",
    "model = EdgeConvNetwork1(128).to(device)\n",
    "\n",
    "\n",
    "optimizer1 = torch.optim.AdamW(model.parameters(), lr=3e-5, weight_decay=0.0001)\n",
    "\n",
    "train_loader = DataLoader(train_dataset, batch_size=128, shuffle=True)\n",
    "test_loader = DataLoader(test_dataset, batch_size=128, shuffle=False)\n",
    "\n",
    "loss_fn = torch.nn.CrossEntropyLoss()\n",
    "losses = []\n",
    "\n",
    "for epoch in range(0, 30):\n",
    "    # variable learning rates\n",
    "    if epoch < 8:\n",
    "        l_r = 0.0005 + ((0.005-0.0005) * (epoch+1) / 8)\n",
    "    if (epoch >= 8) and (epoch < 16): \n",
    "        l_r = 0.005 + ((0.0005-0.005) * (epoch-7) / 8)\n",
    "    if epoch >= 16:\n",
    "        l_r = 0.0005/(5**(epoch-15))\n",
    "\n",
    "    optimizer = torch.optim.AdamW(model.parameters(), lr=l_r, weight_decay=0.0001)\n",
    "                     \n",
    "    loss = train(model, loss_fn, device, train_loader, optimizer1)\n",
    "    train_result = eval(model, device, train_loader)\n",
    "    test_result = eval(model, device, test_loader)\n",
    "    \n",
    "    losses.append(loss)\n",
    "    \n",
    "    print(f'Epoch: {epoch + 1:02d}, '\n",
    "          f'LR: {l_r:.2E}, '\n",
    "          f'Loss: {loss:.4f}, '\n",
    "          f'Train: {100 * train_result:.2f}%, '\n",
    "          f'Test: {100 * test_result:.2f}%')\n",
    "\n",
    "plt.plot(losses)\n",
    "plt.show()"
   ]
  },
  {
   "cell_type": "markdown",
   "id": "92f829be-00bc-452f-81ca-5a6a21646894",
   "metadata": {},
   "source": [
    "## Model 2"
   ]
  },
  {
   "cell_type": "markdown",
   "id": "1c15afb7-5b33-4ef9-a7a1-040eef53f0fd",
   "metadata": {},
   "source": [
    "### Definition"
   ]
  },
  {
   "cell_type": "code",
   "execution_count": 24,
   "id": "00fb0a0b-3a42-4e8b-878e-a812aa7f695e",
   "metadata": {},
   "outputs": [],
   "source": [
    "class EdgeConvNetwork2(torch.nn.Module):\n",
    "    def __init__(self, hidden_channels):\n",
    "        super().__init__()\n",
    "\n",
    "        self.hidden_channels2 = 2 * hidden_channels\n",
    "        self.hidden_channels3 = 4 * hidden_channels\n",
    "        \n",
    "        # Initialize MLPs used by EdgeConv layers\n",
    "        self.mlp1 = Sequential(Linear(2 * dataset.num_node_features, hidden_channels),\n",
    "                              BatchNorm1d(hidden_channels),\n",
    "                              ReLU(),\n",
    "                              Linear(hidden_channels, hidden_channels),\n",
    "                              BatchNorm1d(hidden_channels),\n",
    "                              ReLU(),\n",
    "                              Linear(hidden_channels, hidden_channels),\n",
    "                              BatchNorm1d(hidden_channels),\n",
    "                              ReLU(),\n",
    "                              )\n",
    "        self.mlp2 = Sequential(Linear(2* hidden_channels, self.hidden_channels2),\n",
    "                              BatchNorm1d(self.hidden_channels2),\n",
    "                              ReLU(),\n",
    "                              Linear(self.hidden_channels2, self.hidden_channels2),\n",
    "                              BatchNorm1d(self.hidden_channels2),\n",
    "                              ReLU(),\n",
    "                              Linear(self.hidden_channels2, self.hidden_channels2),\n",
    "                              BatchNorm1d(self.hidden_channels2),\n",
    "                              ReLU(),\n",
    "                              )\n",
    "        self.mlp3 = Sequential(Linear(2* self.hidden_channels2, self.hidden_channels3),\n",
    "                              BatchNorm1d(self.hidden_channels3),\n",
    "                              ReLU(),\n",
    "                              Linear(self.hidden_channels3, self.hidden_channels3),\n",
    "                              BatchNorm1d(self.hidden_channels3),\n",
    "                              ReLU(),\n",
    "                              Linear(self.hidden_channels3, self.hidden_channels3),\n",
    "                              BatchNorm1d(self.hidden_channels3),\n",
    "                              ReLU(),\n",
    "                              )\n",
    "\n",
    "        self.conv1 = EdgeConv(self.mlp1, aggr='mean')\n",
    "        self.conv2 = EdgeConv(self.mlp2, aggr='mean')\n",
    "        self.conv3 = EdgeConv(self.mlp3, aggr='mean')\n",
    "\n",
    "        # Shortcut connections\n",
    "        self.shortcut1 = Linear(dataset.num_node_features, hidden_channels)\n",
    "        self.shortcut2 = Linear(hidden_channels, self.hidden_channels2)\n",
    "        self.shortcut3 = Linear(self.hidden_channels2, self.hidden_channels3)\n",
    "\n",
    "        # Fully connected layer with dropout\n",
    "        self.fc1 = Sequential(\n",
    "            Linear(in_features=self.hidden_channels3, out_features=self.hidden_channels3),\n",
    "            ReLU(),\n",
    "            Dropout(p=0.1)\n",
    "        )\n",
    "        # second fully connected layer\n",
    "        self.fc2 = Sequential(\n",
    "            Linear(in_features=self.hidden_channels3, out_features=2),\n",
    "        )\n",
    "\n",
    "    def forward(self, data):\n",
    "        x, edge_index, batch = data.x, data.edge_index, data.batch\n",
    "\n",
    "        # 1st edge convolution block\n",
    "        out = self.conv1(x, edge_index)\n",
    "        out = out + self.shortcut1(x)\n",
    "        out = F.relu(out)\n",
    "        out1 = out.detach().clone()\n",
    "        # 2nd edge convolution block - uses the learned feature vectors as inputs\n",
    "        out = self.conv2(out, edge_index)\n",
    "        out = out + self.shortcut2(out1)\n",
    "        out = F.relu(out)\n",
    "        out2 = out.detach().clone()\n",
    "        # 3rd edge convolution block - uses the learned feature vectors as inputs\n",
    "        out = self.conv3(out, edge_index)\n",
    "        out = out + self.shortcut3(out2)\n",
    "        out = F.relu(out)\n",
    "        # global average pooling\n",
    "        out = global_mean_pool(out, batch)\n",
    "        # fully-connected-1\n",
    "        out = self.fc1(out)\n",
    "        # fully-connected-2\n",
    "        out = self.fc2(out)\n",
    "\n",
    "        out = F.softmax(out, dim=0)\n",
    "\n",
    "        return out"
   ]
  },
  {
   "cell_type": "markdown",
   "id": "611d7b10-d14d-42a5-abb2-3b1916f9e245",
   "metadata": {},
   "source": [
    "### Instantiation and Model Summary "
   ]
  },
  {
   "cell_type": "code",
   "execution_count": 25,
   "id": "9b30729a-3b8b-4863-bcfb-c13022a6ea5e",
   "metadata": {},
   "outputs": [
    {
     "name": "stdout",
     "output_type": "stream",
     "text": [
      "EdgeConvNetwork2(\n",
      "  (mlp1): Sequential(\n",
      "    (0): Linear(in_features=22, out_features=128, bias=True)\n",
      "    (1): BatchNorm1d(128, eps=1e-05, momentum=0.1, affine=True, track_running_stats=True)\n",
      "    (2): ReLU()\n",
      "    (3): Linear(in_features=128, out_features=128, bias=True)\n",
      "    (4): BatchNorm1d(128, eps=1e-05, momentum=0.1, affine=True, track_running_stats=True)\n",
      "    (5): ReLU()\n",
      "    (6): Linear(in_features=128, out_features=128, bias=True)\n",
      "    (7): BatchNorm1d(128, eps=1e-05, momentum=0.1, affine=True, track_running_stats=True)\n",
      "    (8): ReLU()\n",
      "  )\n",
      "  (mlp2): Sequential(\n",
      "    (0): Linear(in_features=256, out_features=256, bias=True)\n",
      "    (1): BatchNorm1d(256, eps=1e-05, momentum=0.1, affine=True, track_running_stats=True)\n",
      "    (2): ReLU()\n",
      "    (3): Linear(in_features=256, out_features=256, bias=True)\n",
      "    (4): BatchNorm1d(256, eps=1e-05, momentum=0.1, affine=True, track_running_stats=True)\n",
      "    (5): ReLU()\n",
      "    (6): Linear(in_features=256, out_features=256, bias=True)\n",
      "    (7): BatchNorm1d(256, eps=1e-05, momentum=0.1, affine=True, track_running_stats=True)\n",
      "    (8): ReLU()\n",
      "  )\n",
      "  (mlp3): Sequential(\n",
      "    (0): Linear(in_features=512, out_features=512, bias=True)\n",
      "    (1): BatchNorm1d(512, eps=1e-05, momentum=0.1, affine=True, track_running_stats=True)\n",
      "    (2): ReLU()\n",
      "    (3): Linear(in_features=512, out_features=512, bias=True)\n",
      "    (4): BatchNorm1d(512, eps=1e-05, momentum=0.1, affine=True, track_running_stats=True)\n",
      "    (5): ReLU()\n",
      "    (6): Linear(in_features=512, out_features=512, bias=True)\n",
      "    (7): BatchNorm1d(512, eps=1e-05, momentum=0.1, affine=True, track_running_stats=True)\n",
      "    (8): ReLU()\n",
      "  )\n",
      "  (conv1): EdgeConv(nn=Sequential(\n",
      "    (0): Linear(in_features=22, out_features=128, bias=True)\n",
      "    (1): BatchNorm1d(128, eps=1e-05, momentum=0.1, affine=True, track_running_stats=True)\n",
      "    (2): ReLU()\n",
      "    (3): Linear(in_features=128, out_features=128, bias=True)\n",
      "    (4): BatchNorm1d(128, eps=1e-05, momentum=0.1, affine=True, track_running_stats=True)\n",
      "    (5): ReLU()\n",
      "    (6): Linear(in_features=128, out_features=128, bias=True)\n",
      "    (7): BatchNorm1d(128, eps=1e-05, momentum=0.1, affine=True, track_running_stats=True)\n",
      "    (8): ReLU()\n",
      "  ))\n",
      "  (conv2): EdgeConv(nn=Sequential(\n",
      "    (0): Linear(in_features=256, out_features=256, bias=True)\n",
      "    (1): BatchNorm1d(256, eps=1e-05, momentum=0.1, affine=True, track_running_stats=True)\n",
      "    (2): ReLU()\n",
      "    (3): Linear(in_features=256, out_features=256, bias=True)\n",
      "    (4): BatchNorm1d(256, eps=1e-05, momentum=0.1, affine=True, track_running_stats=True)\n",
      "    (5): ReLU()\n",
      "    (6): Linear(in_features=256, out_features=256, bias=True)\n",
      "    (7): BatchNorm1d(256, eps=1e-05, momentum=0.1, affine=True, track_running_stats=True)\n",
      "    (8): ReLU()\n",
      "  ))\n",
      "  (conv3): EdgeConv(nn=Sequential(\n",
      "    (0): Linear(in_features=512, out_features=512, bias=True)\n",
      "    (1): BatchNorm1d(512, eps=1e-05, momentum=0.1, affine=True, track_running_stats=True)\n",
      "    (2): ReLU()\n",
      "    (3): Linear(in_features=512, out_features=512, bias=True)\n",
      "    (4): BatchNorm1d(512, eps=1e-05, momentum=0.1, affine=True, track_running_stats=True)\n",
      "    (5): ReLU()\n",
      "    (6): Linear(in_features=512, out_features=512, bias=True)\n",
      "    (7): BatchNorm1d(512, eps=1e-05, momentum=0.1, affine=True, track_running_stats=True)\n",
      "    (8): ReLU()\n",
      "  ))\n",
      "  (shortcut1): Linear(in_features=11, out_features=128, bias=True)\n",
      "  (shortcut2): Linear(in_features=128, out_features=256, bias=True)\n",
      "  (shortcut3): Linear(in_features=256, out_features=512, bias=True)\n",
      "  (fc1): Sequential(\n",
      "    (0): Linear(in_features=512, out_features=512, bias=True)\n",
      "    (1): ReLU()\n",
      "    (2): Dropout(p=0.1, inplace=False)\n",
      "  )\n",
      "  (fc2): Sequential(\n",
      "    (0): Linear(in_features=512, out_features=2, bias=True)\n",
      "  )\n",
      ")\n",
      "Num parameters:  1456514\n"
     ]
    }
   ],
   "source": [
    "model = EdgeConvNetwork2(128)\n",
    "print(model)\n",
    "\n",
    "print('Num parameters: ', count_parameters(model))"
   ]
  },
  {
   "cell_type": "markdown",
   "id": "62b9a337-dad2-4c84-9994-e300cd9fd07e",
   "metadata": {},
   "source": [
    "The training and evaluation functions defined above will be suitable for this network too as only  \n",
    "the network architecture has been changed"
   ]
  },
  {
   "cell_type": "markdown",
   "id": "a0b0be6f-50d3-4aed-ab3b-624aed874cfb",
   "metadata": {},
   "source": [
    "### Training and Evaluation"
   ]
  },
  {
   "cell_type": "code",
   "execution_count": 33,
   "id": "a433a8c9-566a-49e2-b60e-d6d1c2248c37",
   "metadata": {},
   "outputs": [],
   "source": [
    "# clear gpu cache from previous training session\n",
    "\n",
    "with torch.no_grad():\n",
    "    torch.cuda.empty_cache()"
   ]
  },
  {
   "cell_type": "code",
   "execution_count": 34,
   "id": "3c4e4d74-60e3-4394-b077-6a81717b4484",
   "metadata": {},
   "outputs": [
    {
     "name": "stderr",
     "output_type": "stream",
     "text": [
      "100%|████████████████████████████████████████████████████████████████████████████████████████████████████████████████████████████████| 625/625 [01:32<00:00,  6.79it/s]\n"
     ]
    },
    {
     "name": "stdout",
     "output_type": "stream",
     "text": [
      "Epoch: 01, Loss: 0.6930, Train: 65.29%, Test: 65.50%\n"
     ]
    },
    {
     "name": "stderr",
     "output_type": "stream",
     "text": [
      "100%|████████████████████████████████████████████████████████████████████████████████████████████████████████████████████████████████| 625/625 [01:33<00:00,  6.72it/s]\n"
     ]
    },
    {
     "name": "stdout",
     "output_type": "stream",
     "text": [
      "Epoch: 02, Loss: 0.6931, Train: 65.28%, Test: 65.56%\n"
     ]
    },
    {
     "name": "stderr",
     "output_type": "stream",
     "text": [
      "100%|████████████████████████████████████████████████████████████████████████████████████████████████████████████████████████████████| 625/625 [01:33<00:00,  6.70it/s]\n"
     ]
    },
    {
     "name": "stdout",
     "output_type": "stream",
     "text": [
      "Epoch: 03, Loss: 0.6930, Train: 65.17%, Test: 65.42%\n"
     ]
    },
    {
     "name": "stderr",
     "output_type": "stream",
     "text": [
      "100%|████████████████████████████████████████████████████████████████████████████████████████████████████████████████████████████████| 625/625 [01:33<00:00,  6.70it/s]\n"
     ]
    },
    {
     "name": "stdout",
     "output_type": "stream",
     "text": [
      "Epoch: 04, Loss: 0.6931, Train: 65.20%, Test: 65.29%\n"
     ]
    },
    {
     "name": "stderr",
     "output_type": "stream",
     "text": [
      "100%|████████████████████████████████████████████████████████████████████████████████████████████████████████████████████████████████| 625/625 [01:32<00:00,  6.72it/s]\n"
     ]
    },
    {
     "name": "stdout",
     "output_type": "stream",
     "text": [
      "Epoch: 05, Loss: 0.6931, Train: 65.24%, Test: 65.35%\n"
     ]
    },
    {
     "name": "stderr",
     "output_type": "stream",
     "text": [
      "100%|████████████████████████████████████████████████████████████████████████████████████████████████████████████████████████████████| 625/625 [01:32<00:00,  6.73it/s]\n"
     ]
    },
    {
     "name": "stdout",
     "output_type": "stream",
     "text": [
      "Epoch: 06, Loss: 0.6931, Train: 65.65%, Test: 65.84%\n"
     ]
    },
    {
     "name": "stderr",
     "output_type": "stream",
     "text": [
      "100%|████████████████████████████████████████████████████████████████████████████████████████████████████████████████████████████████| 625/625 [01:33<00:00,  6.71it/s]\n"
     ]
    },
    {
     "name": "stdout",
     "output_type": "stream",
     "text": [
      "Epoch: 07, Loss: 0.6931, Train: 65.32%, Test: 65.44%\n"
     ]
    },
    {
     "name": "stderr",
     "output_type": "stream",
     "text": [
      "100%|████████████████████████████████████████████████████████████████████████████████████████████████████████████████████████████████| 625/625 [01:33<00:00,  6.72it/s]\n"
     ]
    },
    {
     "name": "stdout",
     "output_type": "stream",
     "text": [
      "Epoch: 08, Loss: 0.6931, Train: 65.58%, Test: 65.79%\n"
     ]
    },
    {
     "name": "stderr",
     "output_type": "stream",
     "text": [
      "100%|████████████████████████████████████████████████████████████████████████████████████████████████████████████████████████████████| 625/625 [01:33<00:00,  6.71it/s]\n"
     ]
    },
    {
     "name": "stdout",
     "output_type": "stream",
     "text": [
      "Epoch: 09, Loss: 0.6931, Train: 65.48%, Test: 65.61%\n"
     ]
    },
    {
     "name": "stderr",
     "output_type": "stream",
     "text": [
      "100%|████████████████████████████████████████████████████████████████████████████████████████████████████████████████████████████████| 625/625 [01:33<00:00,  6.72it/s]\n"
     ]
    },
    {
     "name": "stdout",
     "output_type": "stream",
     "text": [
      "Epoch: 10, Loss: 0.6931, Train: 65.23%, Test: 65.47%\n"
     ]
    },
    {
     "name": "stderr",
     "output_type": "stream",
     "text": [
      "100%|████████████████████████████████████████████████████████████████████████████████████████████████████████████████████████████████| 625/625 [01:33<00:00,  6.69it/s]\n"
     ]
    },
    {
     "name": "stdout",
     "output_type": "stream",
     "text": [
      "Epoch: 11, Loss: 0.6931, Train: 65.61%, Test: 65.60%\n"
     ]
    },
    {
     "name": "stderr",
     "output_type": "stream",
     "text": [
      "100%|████████████████████████████████████████████████████████████████████████████████████████████████████████████████████████████████| 625/625 [01:33<00:00,  6.65it/s]\n"
     ]
    },
    {
     "name": "stdout",
     "output_type": "stream",
     "text": [
      "Epoch: 12, Loss: 0.6931, Train: 65.64%, Test: 65.72%\n"
     ]
    },
    {
     "name": "stderr",
     "output_type": "stream",
     "text": [
      "100%|████████████████████████████████████████████████████████████████████████████████████████████████████████████████████████████████| 625/625 [01:33<00:00,  6.66it/s]\n"
     ]
    },
    {
     "name": "stdout",
     "output_type": "stream",
     "text": [
      "Epoch: 13, Loss: 0.6931, Train: 65.47%, Test: 65.63%\n"
     ]
    },
    {
     "name": "stderr",
     "output_type": "stream",
     "text": [
      "100%|████████████████████████████████████████████████████████████████████████████████████████████████████████████████████████████████| 625/625 [01:33<00:00,  6.65it/s]\n"
     ]
    },
    {
     "name": "stdout",
     "output_type": "stream",
     "text": [
      "Epoch: 14, Loss: 0.6931, Train: 65.30%, Test: 65.47%\n"
     ]
    },
    {
     "name": "stderr",
     "output_type": "stream",
     "text": [
      "100%|████████████████████████████████████████████████████████████████████████████████████████████████████████████████████████████████| 625/625 [01:33<00:00,  6.66it/s]\n"
     ]
    },
    {
     "name": "stdout",
     "output_type": "stream",
     "text": [
      "Epoch: 15, Loss: 0.6931, Train: 65.50%, Test: 65.71%\n"
     ]
    },
    {
     "name": "stderr",
     "output_type": "stream",
     "text": [
      "100%|████████████████████████████████████████████████████████████████████████████████████████████████████████████████████████████████| 625/625 [01:33<00:00,  6.67it/s]\n"
     ]
    },
    {
     "name": "stdout",
     "output_type": "stream",
     "text": [
      "Epoch: 16, Loss: 0.6931, Train: 65.39%, Test: 65.62%\n"
     ]
    },
    {
     "name": "stderr",
     "output_type": "stream",
     "text": [
      "100%|████████████████████████████████████████████████████████████████████████████████████████████████████████████████████████████████| 625/625 [01:33<00:00,  6.67it/s]\n"
     ]
    },
    {
     "name": "stdout",
     "output_type": "stream",
     "text": [
      "Epoch: 17, Loss: 0.6931, Train: 65.32%, Test: 65.49%\n"
     ]
    },
    {
     "name": "stderr",
     "output_type": "stream",
     "text": [
      "100%|████████████████████████████████████████████████████████████████████████████████████████████████████████████████████████████████| 625/625 [01:33<00:00,  6.68it/s]\n"
     ]
    },
    {
     "name": "stdout",
     "output_type": "stream",
     "text": [
      "Epoch: 18, Loss: 0.6931, Train: 65.49%, Test: 65.67%\n"
     ]
    },
    {
     "name": "stderr",
     "output_type": "stream",
     "text": [
      "100%|████████████████████████████████████████████████████████████████████████████████████████████████████████████████████████████████| 625/625 [01:34<00:00,  6.64it/s]\n"
     ]
    },
    {
     "name": "stdout",
     "output_type": "stream",
     "text": [
      "Epoch: 19, Loss: 0.6931, Train: 65.49%, Test: 65.60%\n"
     ]
    },
    {
     "name": "stderr",
     "output_type": "stream",
     "text": [
      "100%|████████████████████████████████████████████████████████████████████████████████████████████████████████████████████████████████| 625/625 [01:33<00:00,  6.66it/s]\n"
     ]
    },
    {
     "name": "stdout",
     "output_type": "stream",
     "text": [
      "Epoch: 20, Loss: 0.6931, Train: 65.52%, Test: 65.67%\n"
     ]
    },
    {
     "name": "stderr",
     "output_type": "stream",
     "text": [
      "100%|████████████████████████████████████████████████████████████████████████████████████████████████████████████████████████████████| 625/625 [01:33<00:00,  6.69it/s]\n"
     ]
    },
    {
     "name": "stdout",
     "output_type": "stream",
     "text": [
      "Epoch: 21, Loss: 0.6931, Train: 65.52%, Test: 65.63%\n"
     ]
    },
    {
     "name": "stderr",
     "output_type": "stream",
     "text": [
      "100%|████████████████████████████████████████████████████████████████████████████████████████████████████████████████████████████████| 625/625 [01:33<00:00,  6.68it/s]\n"
     ]
    },
    {
     "name": "stdout",
     "output_type": "stream",
     "text": [
      "Epoch: 22, Loss: 0.6931, Train: 65.41%, Test: 65.51%\n"
     ]
    },
    {
     "name": "stderr",
     "output_type": "stream",
     "text": [
      "100%|████████████████████████████████████████████████████████████████████████████████████████████████████████████████████████████████| 625/625 [01:33<00:00,  6.70it/s]\n"
     ]
    },
    {
     "name": "stdout",
     "output_type": "stream",
     "text": [
      "Epoch: 23, Loss: 0.6931, Train: 65.31%, Test: 65.60%\n"
     ]
    },
    {
     "name": "stderr",
     "output_type": "stream",
     "text": [
      "100%|████████████████████████████████████████████████████████████████████████████████████████████████████████████████████████████████| 625/625 [01:33<00:00,  6.69it/s]\n"
     ]
    },
    {
     "name": "stdout",
     "output_type": "stream",
     "text": [
      "Epoch: 24, Loss: 0.6931, Train: 65.38%, Test: 65.46%\n"
     ]
    },
    {
     "name": "stderr",
     "output_type": "stream",
     "text": [
      "100%|████████████████████████████████████████████████████████████████████████████████████████████████████████████████████████████████| 625/625 [01:33<00:00,  6.69it/s]\n"
     ]
    },
    {
     "name": "stdout",
     "output_type": "stream",
     "text": [
      "Epoch: 25, Loss: 0.6931, Train: 65.45%, Test: 65.53%\n"
     ]
    },
    {
     "name": "stderr",
     "output_type": "stream",
     "text": [
      "100%|████████████████████████████████████████████████████████████████████████████████████████████████████████████████████████████████| 625/625 [01:33<00:00,  6.69it/s]\n"
     ]
    },
    {
     "name": "stdout",
     "output_type": "stream",
     "text": [
      "Epoch: 26, Loss: 0.6931, Train: 65.38%, Test: 65.63%\n"
     ]
    },
    {
     "name": "stderr",
     "output_type": "stream",
     "text": [
      "100%|████████████████████████████████████████████████████████████████████████████████████████████████████████████████████████████████| 625/625 [01:33<00:00,  6.69it/s]\n"
     ]
    },
    {
     "name": "stdout",
     "output_type": "stream",
     "text": [
      "Epoch: 27, Loss: 0.6931, Train: 65.43%, Test: 65.61%\n"
     ]
    },
    {
     "name": "stderr",
     "output_type": "stream",
     "text": [
      "100%|████████████████████████████████████████████████████████████████████████████████████████████████████████████████████████████████| 625/625 [01:33<00:00,  6.70it/s]\n"
     ]
    },
    {
     "name": "stdout",
     "output_type": "stream",
     "text": [
      "Epoch: 28, Loss: 0.6931, Train: 65.40%, Test: 65.54%\n"
     ]
    },
    {
     "name": "stderr",
     "output_type": "stream",
     "text": [
      "100%|████████████████████████████████████████████████████████████████████████████████████████████████████████████████████████████████| 625/625 [01:33<00:00,  6.70it/s]\n"
     ]
    },
    {
     "name": "stdout",
     "output_type": "stream",
     "text": [
      "Epoch: 29, Loss: 0.6931, Train: 65.43%, Test: 65.44%\n"
     ]
    },
    {
     "name": "stderr",
     "output_type": "stream",
     "text": [
      "100%|████████████████████████████████████████████████████████████████████████████████████████████████████████████████████████████████| 625/625 [01:33<00:00,  6.70it/s]\n"
     ]
    },
    {
     "name": "stdout",
     "output_type": "stream",
     "text": [
      "Epoch: 30, Loss: 0.6931, Train: 65.42%, Test: 65.56%\n"
     ]
    },
    {
     "data": {
      "image/png": "[encoded data removed]",
      "text/plain": [
       "<Figure size 640x480 with 1 Axes>"
      ]
     },
     "metadata": {},
     "output_type": "display_data"
    }
   ],
   "source": [
    "device2 = torch.device(\"cuda\" if torch.cuda.is_available() else \"cpu\")\n",
    "\n",
    "model2 = EdgeConvNetwork2(128).to(device)\n",
    "optimizer2 = torch.optim.AdamW(model.parameters(), lr=1e-7, weight_decay=0.0001)\n",
    "\n",
    "train_loader2 = DataLoader(train_dataset, batch_size=128, shuffle=True)\n",
    "test_loader2 = DataLoader(test_dataset, batch_size=128, shuffle=False)\n",
    "\n",
    "loss_fn2 = torch.nn.CrossEntropyLoss()\n",
    "losses2 = []\n",
    "\n",
    "for epoch in range(0, 30):\n",
    "    loss2 = train(model2, loss_fn2, device2, train_loader2, optimizer2)\n",
    "    train_result2 = eval(model2, device2, train_loader2)\n",
    "    test_result2 = eval(model2, device2, test_loader2)\n",
    "    \n",
    "    losses2.append(loss2)\n",
    "    \n",
    "    print(f'Epoch: {epoch + 1:02d}, '\n",
    "          f'Loss: {loss2:.4f}, '\n",
    "          f'Train: {100 * train_result2:.2f}%, '\n",
    "          f'Test: {100 * test_result2:.2f}%')\n",
    "\n",
    "plt.plot(losses2)\n",
    "plt.show()"
   ]
  },
  {
   "cell_type": "markdown",
   "id": "d8869b89-6088-41b6-8ef8-55f00af80f18",
   "metadata": {},
   "source": [
    "## Performance comparison of the 2 chosen GNN architectures"
   ]
  },
  {
   "cell_type": "markdown",
   "id": "9a4741a6-a6c9-472f-8d87-5671aaff9906",
   "metadata": {},
   "source": [
    "1. It can be seen that despite being a simpler model, model1 achieved around 80% training and test accuracy   \n",
    "   on the small dataset itself\n",
    "\n",
    "2. The heavier model (model2) seemed to perform a little lesser than model1 on the smaller dataset but performed better\n",
    "   with around 80%-83% train and test accuracies when tested with two file-d dataset (ie., 200000 jets)\n",
    "\n",
    "3. This may be attributed to requirement of mode graphs/lesser learning-rate/more epochs to correctly identify patterns for increased no. of parameters in 2nd model. The loss curve oscillating at a fixed level might also hints at the same fact.\n",
    "\n",
    "4. Emphasis of the task as understood is not given on the accuracies of the models but to test and explore different network configurations\n",
    "   and to include as much network elements (shortcuts, variable learning rates, weight decays etc.)\n",
    "\n",
    "5. Keeping in mind the training and compute constraints, only one dataset has been used, not all 20. This also forms a test case for the model's performance when 1/20th of actual data is given to the model.\n",
    "\n",
    "6. Literature citing the given dataset were able to achive over 90%-95% accuracies when trained over the whole 2M jet dataset and with additional 4momentum information. Which could not be obtained from the given dataset. The given model has high chances to achieve that levels of accuracies when trained over that data as well."
   ]
  },
  {
   "cell_type": "code",
   "execution_count": null,
   "id": "6480320c-916b-46d4-a6b2-6e21f17fae11",
   "metadata": {},
   "outputs": [],
   "source": []
  }
 ],
 "metadata": {
  "kernelspec": {
   "display_name": "Python 3 (ipykernel)",
   "language": "python",
   "name": "python3"
  },
  "language_info": {
   "codemirror_mode": {
    "name": "ipython",
    "version": 3
   },
   "file_extension": ".py",
   "mimetype": "text/x-python",
   "name": "python",
   "nbconvert_exporter": "python",
   "pygments_lexer": "ipython3",
   "version": "3.10.14"
  }
 },
 "nbformat": 4,
 "nbformat_minor": 5
}
